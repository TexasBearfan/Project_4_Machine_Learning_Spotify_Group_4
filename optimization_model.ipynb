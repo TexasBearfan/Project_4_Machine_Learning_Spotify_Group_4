{
  "cells": [
    {
      "cell_type": "code",
      "execution_count": 2,
      "metadata": {
        "colab": {
          "base_uri": "https://localhost:8080/",
          "height": 487
        },
        "id": "2WCyDoy_qBMs",
        "outputId": "15b49cb7-6c09-400f-c349-88b0ae7d197f"
      },
      "outputs": [
        {
          "data": {
            "text/html": [
              "<div>\n",
              "<style scoped>\n",
              "    .dataframe tbody tr th:only-of-type {\n",
              "        vertical-align: middle;\n",
              "    }\n",
              "\n",
              "    .dataframe tbody tr th {\n",
              "        vertical-align: top;\n",
              "    }\n",
              "\n",
              "    .dataframe thead th {\n",
              "        text-align: right;\n",
              "    }\n",
              "</style>\n",
              "<table border=\"1\" class=\"dataframe\">\n",
              "  <thead>\n",
              "    <tr style=\"text-align: right;\">\n",
              "      <th></th>\n",
              "      <th>Unnamed: 0</th>\n",
              "      <th>Rank</th>\n",
              "      <th>Date</th>\n",
              "      <th>Artists</th>\n",
              "      <th>Nationality</th>\n",
              "      <th>Song URL</th>\n",
              "      <th>Continent</th>\n",
              "      <th>Artist (Ind.)</th>\n",
              "      <th>Title</th>\n",
              "      <th>Danceability</th>\n",
              "      <th>Energy</th>\n",
              "      <th>Loudness</th>\n",
              "      <th>Speechiness</th>\n",
              "      <th>Acousticness</th>\n",
              "      <th>Instrumentalness</th>\n",
              "      <th>Valence</th>\n",
              "      <th>id</th>\n",
              "      <th>Dated_date</th>\n",
              "      <th>Date_value</th>\n",
              "    </tr>\n",
              "  </thead>\n",
              "  <tbody>\n",
              "    <tr>\n",
              "      <th>0</th>\n",
              "      <td>0</td>\n",
              "      <td>1</td>\n",
              "      <td>29/05/2023</td>\n",
              "      <td>Eslabon Armado, Peso Pluma</td>\n",
              "      <td>Mexico</td>\n",
              "      <td>https://open.spotify.com/track/3qQbCzHBycnDpGs...</td>\n",
              "      <td>Latin-America</td>\n",
              "      <td>Eslabon Armado</td>\n",
              "      <td>Ella Baila Sola</td>\n",
              "      <td>0.668</td>\n",
              "      <td>0.758</td>\n",
              "      <td>-5176.0</td>\n",
              "      <td>0.033</td>\n",
              "      <td>0.483</td>\n",
              "      <td>0.000</td>\n",
              "      <td>0.834</td>\n",
              "      <td>3qQbCzHBycnDpGskqOWY0E</td>\n",
              "      <td>2023-05-29</td>\n",
              "      <td>0.485714</td>\n",
              "    </tr>\n",
              "    <tr>\n",
              "      <th>1</th>\n",
              "      <td>1</td>\n",
              "      <td>1</td>\n",
              "      <td>29/05/2023</td>\n",
              "      <td>Eslabon Armado, Peso Pluma</td>\n",
              "      <td>Mexico</td>\n",
              "      <td>https://open.spotify.com/track/3qQbCzHBycnDpGs...</td>\n",
              "      <td>Latin-America</td>\n",
              "      <td>Peso Pluma</td>\n",
              "      <td>Ella Baila Sola</td>\n",
              "      <td>0.668</td>\n",
              "      <td>0.758</td>\n",
              "      <td>-5176.0</td>\n",
              "      <td>0.033</td>\n",
              "      <td>0.483</td>\n",
              "      <td>0.000</td>\n",
              "      <td>0.834</td>\n",
              "      <td>3qQbCzHBycnDpGskqOWY0E</td>\n",
              "      <td>2023-05-29</td>\n",
              "      <td>0.485714</td>\n",
              "    </tr>\n",
              "    <tr>\n",
              "      <th>2</th>\n",
              "      <td>2</td>\n",
              "      <td>2</td>\n",
              "      <td>29/05/2023</td>\n",
              "      <td>Bad Bunny</td>\n",
              "      <td>Puerto Rico</td>\n",
              "      <td>https://open.spotify.com/track/7ro0hRteUMfnOio...</td>\n",
              "      <td>Latin-America</td>\n",
              "      <td>Bad Bunny</td>\n",
              "      <td>WHERE SHE GOES</td>\n",
              "      <td>0.652</td>\n",
              "      <td>0.800</td>\n",
              "      <td>-4019.0</td>\n",
              "      <td>0.061</td>\n",
              "      <td>0.143</td>\n",
              "      <td>0.629</td>\n",
              "      <td>0.234</td>\n",
              "      <td>7ro0hRteUMfnOioTFI5TG1</td>\n",
              "      <td>2023-05-29</td>\n",
              "      <td>0.485714</td>\n",
              "    </tr>\n",
              "    <tr>\n",
              "      <th>3</th>\n",
              "      <td>3</td>\n",
              "      <td>3</td>\n",
              "      <td>29/05/2023</td>\n",
              "      <td>Yng Lvcas, Peso Pluma</td>\n",
              "      <td>Mexico</td>\n",
              "      <td>https://open.spotify.com/track/2UW7JaomAMuX9pZ...</td>\n",
              "      <td>Latin-America</td>\n",
              "      <td>Yng Lvcas</td>\n",
              "      <td>La Bebe - Remix</td>\n",
              "      <td>0.812</td>\n",
              "      <td>0.479</td>\n",
              "      <td>-5678.0</td>\n",
              "      <td>0.333</td>\n",
              "      <td>0.213</td>\n",
              "      <td>0.000</td>\n",
              "      <td>0.559</td>\n",
              "      <td>2UW7JaomAMuX9pZrjVpHAU</td>\n",
              "      <td>2023-05-29</td>\n",
              "      <td>0.485714</td>\n",
              "    </tr>\n",
              "    <tr>\n",
              "      <th>4</th>\n",
              "      <td>4</td>\n",
              "      <td>3</td>\n",
              "      <td>29/05/2023</td>\n",
              "      <td>Yng Lvcas, Peso Pluma</td>\n",
              "      <td>Mexico</td>\n",
              "      <td>https://open.spotify.com/track/2UW7JaomAMuX9pZ...</td>\n",
              "      <td>Latin-America</td>\n",
              "      <td>Peso Pluma</td>\n",
              "      <td>La Bebe - Remix</td>\n",
              "      <td>0.812</td>\n",
              "      <td>0.479</td>\n",
              "      <td>-5678.0</td>\n",
              "      <td>0.333</td>\n",
              "      <td>0.213</td>\n",
              "      <td>0.000</td>\n",
              "      <td>0.559</td>\n",
              "      <td>2UW7JaomAMuX9pZrjVpHAU</td>\n",
              "      <td>2023-05-29</td>\n",
              "      <td>0.485714</td>\n",
              "    </tr>\n",
              "  </tbody>\n",
              "</table>\n",
              "</div>"
            ],
            "text/plain": [
              "   Unnamed: 0  Rank        Date                     Artists  Nationality  \\\n",
              "0           0     1  29/05/2023  Eslabon Armado, Peso Pluma       Mexico   \n",
              "1           1     1  29/05/2023  Eslabon Armado, Peso Pluma       Mexico   \n",
              "2           2     2  29/05/2023                   Bad Bunny  Puerto Rico   \n",
              "3           3     3  29/05/2023       Yng Lvcas, Peso Pluma       Mexico   \n",
              "4           4     3  29/05/2023       Yng Lvcas, Peso Pluma       Mexico   \n",
              "\n",
              "                                            Song URL      Continent  \\\n",
              "0  https://open.spotify.com/track/3qQbCzHBycnDpGs...  Latin-America   \n",
              "1  https://open.spotify.com/track/3qQbCzHBycnDpGs...  Latin-America   \n",
              "2  https://open.spotify.com/track/7ro0hRteUMfnOio...  Latin-America   \n",
              "3  https://open.spotify.com/track/2UW7JaomAMuX9pZ...  Latin-America   \n",
              "4  https://open.spotify.com/track/2UW7JaomAMuX9pZ...  Latin-America   \n",
              "\n",
              "    Artist (Ind.)            Title  Danceability  Energy  Loudness  \\\n",
              "0  Eslabon Armado  Ella Baila Sola         0.668   0.758   -5176.0   \n",
              "1      Peso Pluma  Ella Baila Sola         0.668   0.758   -5176.0   \n",
              "2       Bad Bunny   WHERE SHE GOES         0.652   0.800   -4019.0   \n",
              "3       Yng Lvcas  La Bebe - Remix         0.812   0.479   -5678.0   \n",
              "4      Peso Pluma  La Bebe - Remix         0.812   0.479   -5678.0   \n",
              "\n",
              "   Speechiness  Acousticness  Instrumentalness  Valence  \\\n",
              "0        0.033         0.483             0.000    0.834   \n",
              "1        0.033         0.483             0.000    0.834   \n",
              "2        0.061         0.143             0.629    0.234   \n",
              "3        0.333         0.213             0.000    0.559   \n",
              "4        0.333         0.213             0.000    0.559   \n",
              "\n",
              "                       id  Dated_date  Date_value  \n",
              "0  3qQbCzHBycnDpGskqOWY0E  2023-05-29    0.485714  \n",
              "1  3qQbCzHBycnDpGskqOWY0E  2023-05-29    0.485714  \n",
              "2  7ro0hRteUMfnOioTFI5TG1  2023-05-29    0.485714  \n",
              "3  2UW7JaomAMuX9pZrjVpHAU  2023-05-29    0.485714  \n",
              "4  2UW7JaomAMuX9pZrjVpHAU  2023-05-29    0.485714  "
            ]
          },
          "execution_count": 2,
          "metadata": {},
          "output_type": "execute_result"
        }
      ],
      "source": [
        "# Import our dependencies\n",
        "from sklearn.model_selection import train_test_split\n",
        "from sklearn.preprocessing import StandardScaler\n",
        "import pandas as pd\n",
        "import tensorflow as tf\n",
        "\n",
        "# Reading CSV file and creating DataFrame\n",
        "df = pd.read_csv(\"data/Big_Data_2022_05_30.csv\")\n",
        "df.head()"
      ]
    },
    {
      "cell_type": "code",
      "execution_count": 3,
      "metadata": {
        "colab": {
          "base_uri": "https://localhost:8080/",
          "height": 469
        },
        "id": "7GWe7aMWqBMv",
        "outputId": "d7c6df9e-022e-4aa7-fc31-91a10f82ff40"
      },
      "outputs": [
        {
          "data": {
            "text/html": [
              "<div>\n",
              "<style scoped>\n",
              "    .dataframe tbody tr th:only-of-type {\n",
              "        vertical-align: middle;\n",
              "    }\n",
              "\n",
              "    .dataframe tbody tr th {\n",
              "        vertical-align: top;\n",
              "    }\n",
              "\n",
              "    .dataframe thead th {\n",
              "        text-align: right;\n",
              "    }\n",
              "</style>\n",
              "<table border=\"1\" class=\"dataframe\">\n",
              "  <thead>\n",
              "    <tr style=\"text-align: right;\">\n",
              "      <th></th>\n",
              "      <th>Unnamed: 0</th>\n",
              "      <th>Rank</th>\n",
              "      <th>Artists</th>\n",
              "      <th>Nationality</th>\n",
              "      <th>Song URL</th>\n",
              "      <th>Continent</th>\n",
              "      <th>Artist (Ind.)</th>\n",
              "      <th>Danceability</th>\n",
              "      <th>Energy</th>\n",
              "      <th>Loudness</th>\n",
              "      <th>Speechiness</th>\n",
              "      <th>Acousticness</th>\n",
              "      <th>Instrumentalness</th>\n",
              "      <th>Valence</th>\n",
              "      <th>Dated_date</th>\n",
              "      <th>Date_value</th>\n",
              "    </tr>\n",
              "  </thead>\n",
              "  <tbody>\n",
              "    <tr>\n",
              "      <th>0</th>\n",
              "      <td>0</td>\n",
              "      <td>1</td>\n",
              "      <td>Eslabon Armado, Peso Pluma</td>\n",
              "      <td>Mexico</td>\n",
              "      <td>https://open.spotify.com/track/3qQbCzHBycnDpGs...</td>\n",
              "      <td>Latin-America</td>\n",
              "      <td>Eslabon Armado</td>\n",
              "      <td>0.668</td>\n",
              "      <td>0.758</td>\n",
              "      <td>-5176.0</td>\n",
              "      <td>0.033</td>\n",
              "      <td>0.483</td>\n",
              "      <td>0.000</td>\n",
              "      <td>0.834</td>\n",
              "      <td>2023-05-29</td>\n",
              "      <td>0.485714</td>\n",
              "    </tr>\n",
              "    <tr>\n",
              "      <th>1</th>\n",
              "      <td>1</td>\n",
              "      <td>1</td>\n",
              "      <td>Eslabon Armado, Peso Pluma</td>\n",
              "      <td>Mexico</td>\n",
              "      <td>https://open.spotify.com/track/3qQbCzHBycnDpGs...</td>\n",
              "      <td>Latin-America</td>\n",
              "      <td>Peso Pluma</td>\n",
              "      <td>0.668</td>\n",
              "      <td>0.758</td>\n",
              "      <td>-5176.0</td>\n",
              "      <td>0.033</td>\n",
              "      <td>0.483</td>\n",
              "      <td>0.000</td>\n",
              "      <td>0.834</td>\n",
              "      <td>2023-05-29</td>\n",
              "      <td>0.485714</td>\n",
              "    </tr>\n",
              "    <tr>\n",
              "      <th>2</th>\n",
              "      <td>2</td>\n",
              "      <td>2</td>\n",
              "      <td>Bad Bunny</td>\n",
              "      <td>Puerto Rico</td>\n",
              "      <td>https://open.spotify.com/track/7ro0hRteUMfnOio...</td>\n",
              "      <td>Latin-America</td>\n",
              "      <td>Bad Bunny</td>\n",
              "      <td>0.652</td>\n",
              "      <td>0.800</td>\n",
              "      <td>-4019.0</td>\n",
              "      <td>0.061</td>\n",
              "      <td>0.143</td>\n",
              "      <td>0.629</td>\n",
              "      <td>0.234</td>\n",
              "      <td>2023-05-29</td>\n",
              "      <td>0.485714</td>\n",
              "    </tr>\n",
              "    <tr>\n",
              "      <th>3</th>\n",
              "      <td>3</td>\n",
              "      <td>3</td>\n",
              "      <td>Yng Lvcas, Peso Pluma</td>\n",
              "      <td>Mexico</td>\n",
              "      <td>https://open.spotify.com/track/2UW7JaomAMuX9pZ...</td>\n",
              "      <td>Latin-America</td>\n",
              "      <td>Yng Lvcas</td>\n",
              "      <td>0.812</td>\n",
              "      <td>0.479</td>\n",
              "      <td>-5678.0</td>\n",
              "      <td>0.333</td>\n",
              "      <td>0.213</td>\n",
              "      <td>0.000</td>\n",
              "      <td>0.559</td>\n",
              "      <td>2023-05-29</td>\n",
              "      <td>0.485714</td>\n",
              "    </tr>\n",
              "    <tr>\n",
              "      <th>4</th>\n",
              "      <td>4</td>\n",
              "      <td>3</td>\n",
              "      <td>Yng Lvcas, Peso Pluma</td>\n",
              "      <td>Mexico</td>\n",
              "      <td>https://open.spotify.com/track/2UW7JaomAMuX9pZ...</td>\n",
              "      <td>Latin-America</td>\n",
              "      <td>Peso Pluma</td>\n",
              "      <td>0.812</td>\n",
              "      <td>0.479</td>\n",
              "      <td>-5678.0</td>\n",
              "      <td>0.333</td>\n",
              "      <td>0.213</td>\n",
              "      <td>0.000</td>\n",
              "      <td>0.559</td>\n",
              "      <td>2023-05-29</td>\n",
              "      <td>0.485714</td>\n",
              "    </tr>\n",
              "  </tbody>\n",
              "</table>\n",
              "</div>"
            ],
            "text/plain": [
              "   Unnamed: 0  Rank                     Artists  Nationality  \\\n",
              "0           0     1  Eslabon Armado, Peso Pluma       Mexico   \n",
              "1           1     1  Eslabon Armado, Peso Pluma       Mexico   \n",
              "2           2     2                   Bad Bunny  Puerto Rico   \n",
              "3           3     3       Yng Lvcas, Peso Pluma       Mexico   \n",
              "4           4     3       Yng Lvcas, Peso Pluma       Mexico   \n",
              "\n",
              "                                            Song URL      Continent  \\\n",
              "0  https://open.spotify.com/track/3qQbCzHBycnDpGs...  Latin-America   \n",
              "1  https://open.spotify.com/track/3qQbCzHBycnDpGs...  Latin-America   \n",
              "2  https://open.spotify.com/track/7ro0hRteUMfnOio...  Latin-America   \n",
              "3  https://open.spotify.com/track/2UW7JaomAMuX9pZ...  Latin-America   \n",
              "4  https://open.spotify.com/track/2UW7JaomAMuX9pZ...  Latin-America   \n",
              "\n",
              "    Artist (Ind.)  Danceability  Energy  Loudness  Speechiness  Acousticness  \\\n",
              "0  Eslabon Armado         0.668   0.758   -5176.0        0.033         0.483   \n",
              "1      Peso Pluma         0.668   0.758   -5176.0        0.033         0.483   \n",
              "2       Bad Bunny         0.652   0.800   -4019.0        0.061         0.143   \n",
              "3       Yng Lvcas         0.812   0.479   -5678.0        0.333         0.213   \n",
              "4      Peso Pluma         0.812   0.479   -5678.0        0.333         0.213   \n",
              "\n",
              "   Instrumentalness  Valence  Dated_date  Date_value  \n",
              "0             0.000    0.834  2023-05-29    0.485714  \n",
              "1             0.000    0.834  2023-05-29    0.485714  \n",
              "2             0.629    0.234  2023-05-29    0.485714  \n",
              "3             0.000    0.559  2023-05-29    0.485714  \n",
              "4             0.000    0.559  2023-05-29    0.485714  "
            ]
          },
          "execution_count": 3,
          "metadata": {},
          "output_type": "execute_result"
        }
      ],
      "source": [
        "# Dropping collumns not needed to train our model\n",
        "df = df.drop(columns=[\"Date\",\"Title\",\"id\"])\n",
        "df.head()\n"
      ]
    },
    {
      "cell_type": "code",
      "execution_count": 4,
      "metadata": {
        "id": "8ev9mRpBqBMv"
      },
      "outputs": [],
      "source": [
        "#Binning our data\n",
        "\n",
        "# Defining bin edges and labels\n",
        "bins = [0, 50, 100, 150, 200]\n",
        "labels = [1, 2, 3, 4]\n",
        "\n",
        "#Creating column with binned data\n",
        "df['Popularity'] = pd.cut(df['Rank'], bins=bins, labels=labels, right=True)\n",
        "\n"
      ]
    },
    {
      "cell_type": "code",
      "execution_count": 5,
      "metadata": {
        "colab": {
          "base_uri": "https://localhost:8080/",
          "height": 206
        },
        "id": "foOOf4tKqBMv",
        "outputId": "927d2397-a097-45ff-8c9d-ae03fcb393e7"
      },
      "outputs": [
        {
          "data": {
            "text/html": [
              "<div>\n",
              "<style scoped>\n",
              "    .dataframe tbody tr th:only-of-type {\n",
              "        vertical-align: middle;\n",
              "    }\n",
              "\n",
              "    .dataframe tbody tr th {\n",
              "        vertical-align: top;\n",
              "    }\n",
              "\n",
              "    .dataframe thead th {\n",
              "        text-align: right;\n",
              "    }\n",
              "</style>\n",
              "<table border=\"1\" class=\"dataframe\">\n",
              "  <thead>\n",
              "    <tr style=\"text-align: right;\">\n",
              "      <th></th>\n",
              "      <th>Danceability</th>\n",
              "      <th>Energy</th>\n",
              "      <th>Loudness</th>\n",
              "      <th>Speechiness</th>\n",
              "      <th>Acousticness</th>\n",
              "      <th>Instrumentalness</th>\n",
              "      <th>Valence</th>\n",
              "      <th>Date_value</th>\n",
              "      <th>Popularity</th>\n",
              "    </tr>\n",
              "  </thead>\n",
              "  <tbody>\n",
              "    <tr>\n",
              "      <th>0</th>\n",
              "      <td>0.668</td>\n",
              "      <td>0.758</td>\n",
              "      <td>-5176.0</td>\n",
              "      <td>0.033</td>\n",
              "      <td>0.483</td>\n",
              "      <td>0.000</td>\n",
              "      <td>0.834</td>\n",
              "      <td>0.485714</td>\n",
              "      <td>1</td>\n",
              "    </tr>\n",
              "    <tr>\n",
              "      <th>1</th>\n",
              "      <td>0.668</td>\n",
              "      <td>0.758</td>\n",
              "      <td>-5176.0</td>\n",
              "      <td>0.033</td>\n",
              "      <td>0.483</td>\n",
              "      <td>0.000</td>\n",
              "      <td>0.834</td>\n",
              "      <td>0.485714</td>\n",
              "      <td>1</td>\n",
              "    </tr>\n",
              "    <tr>\n",
              "      <th>2</th>\n",
              "      <td>0.652</td>\n",
              "      <td>0.800</td>\n",
              "      <td>-4019.0</td>\n",
              "      <td>0.061</td>\n",
              "      <td>0.143</td>\n",
              "      <td>0.629</td>\n",
              "      <td>0.234</td>\n",
              "      <td>0.485714</td>\n",
              "      <td>1</td>\n",
              "    </tr>\n",
              "    <tr>\n",
              "      <th>3</th>\n",
              "      <td>0.812</td>\n",
              "      <td>0.479</td>\n",
              "      <td>-5678.0</td>\n",
              "      <td>0.333</td>\n",
              "      <td>0.213</td>\n",
              "      <td>0.000</td>\n",
              "      <td>0.559</td>\n",
              "      <td>0.485714</td>\n",
              "      <td>1</td>\n",
              "    </tr>\n",
              "    <tr>\n",
              "      <th>4</th>\n",
              "      <td>0.812</td>\n",
              "      <td>0.479</td>\n",
              "      <td>-5678.0</td>\n",
              "      <td>0.333</td>\n",
              "      <td>0.213</td>\n",
              "      <td>0.000</td>\n",
              "      <td>0.559</td>\n",
              "      <td>0.485714</td>\n",
              "      <td>1</td>\n",
              "    </tr>\n",
              "  </tbody>\n",
              "</table>\n",
              "</div>"
            ],
            "text/plain": [
              "   Danceability  Energy  Loudness  Speechiness  Acousticness  \\\n",
              "0         0.668   0.758   -5176.0        0.033         0.483   \n",
              "1         0.668   0.758   -5176.0        0.033         0.483   \n",
              "2         0.652   0.800   -4019.0        0.061         0.143   \n",
              "3         0.812   0.479   -5678.0        0.333         0.213   \n",
              "4         0.812   0.479   -5678.0        0.333         0.213   \n",
              "\n",
              "   Instrumentalness  Valence  Date_value Popularity  \n",
              "0             0.000    0.834    0.485714          1  \n",
              "1             0.000    0.834    0.485714          1  \n",
              "2             0.629    0.234    0.485714          1  \n",
              "3             0.000    0.559    0.485714          1  \n",
              "4             0.000    0.559    0.485714          1  "
            ]
          },
          "execution_count": 5,
          "metadata": {},
          "output_type": "execute_result"
        }
      ],
      "source": [
        "#Dropping 'Rank' and unnamed column\n",
        "df = df.drop(columns=[\"Rank\", \"Unnamed: 0\", \"Artists\", \"Song URL\", \"Nationality\", \"Continent\", \"Artist (Ind.)\", \"Dated_date\"])\n",
        "\n",
        "df.head()"
      ]
    },
    {
      "cell_type": "code",
      "execution_count": 6,
      "metadata": {
        "colab": {
          "base_uri": "https://localhost:8080/"
        },
        "id": "3XNRUxwwqBMw",
        "outputId": "4d46bda6-83ea-434b-adc1-e57de9e90ff3"
      },
      "outputs": [
        {
          "data": {
            "text/plain": [
              "Danceability         float64\n",
              "Energy               float64\n",
              "Loudness             float64\n",
              "Speechiness          float64\n",
              "Acousticness         float64\n",
              "Instrumentalness     float64\n",
              "Valence              float64\n",
              "Date_value           float64\n",
              "Popularity          category\n",
              "dtype: object"
            ]
          },
          "execution_count": 6,
          "metadata": {},
          "output_type": "execute_result"
        }
      ],
      "source": [
        "df.dtypes"
      ]
    },
    {
      "cell_type": "code",
      "execution_count": 7,
      "metadata": {
        "id": "0QXlHIbrqBMw"
      },
      "outputs": [],
      "source": [
        "#Removing 'Rank' from features data\n",
        "y = df['Popularity']\n",
        "X = df.drop(columns=\"Popularity\")"
      ]
    },
    {
      "cell_type": "code",
      "execution_count": 8,
      "metadata": {
        "colab": {
          "base_uri": "https://localhost:8080/",
          "height": 206
        },
        "id": "KfCFJZN7qBMw",
        "outputId": "3917799a-1fcf-41f3-822d-cef07a62cf7a"
      },
      "outputs": [
        {
          "data": {
            "text/html": [
              "<div>\n",
              "<style scoped>\n",
              "    .dataframe tbody tr th:only-of-type {\n",
              "        vertical-align: middle;\n",
              "    }\n",
              "\n",
              "    .dataframe tbody tr th {\n",
              "        vertical-align: top;\n",
              "    }\n",
              "\n",
              "    .dataframe thead th {\n",
              "        text-align: right;\n",
              "    }\n",
              "</style>\n",
              "<table border=\"1\" class=\"dataframe\">\n",
              "  <thead>\n",
              "    <tr style=\"text-align: right;\">\n",
              "      <th></th>\n",
              "      <th>1</th>\n",
              "      <th>2</th>\n",
              "      <th>3</th>\n",
              "      <th>4</th>\n",
              "    </tr>\n",
              "  </thead>\n",
              "  <tbody>\n",
              "    <tr>\n",
              "      <th>0</th>\n",
              "      <td>True</td>\n",
              "      <td>False</td>\n",
              "      <td>False</td>\n",
              "      <td>False</td>\n",
              "    </tr>\n",
              "    <tr>\n",
              "      <th>1</th>\n",
              "      <td>True</td>\n",
              "      <td>False</td>\n",
              "      <td>False</td>\n",
              "      <td>False</td>\n",
              "    </tr>\n",
              "    <tr>\n",
              "      <th>2</th>\n",
              "      <td>True</td>\n",
              "      <td>False</td>\n",
              "      <td>False</td>\n",
              "      <td>False</td>\n",
              "    </tr>\n",
              "    <tr>\n",
              "      <th>3</th>\n",
              "      <td>True</td>\n",
              "      <td>False</td>\n",
              "      <td>False</td>\n",
              "      <td>False</td>\n",
              "    </tr>\n",
              "    <tr>\n",
              "      <th>4</th>\n",
              "      <td>True</td>\n",
              "      <td>False</td>\n",
              "      <td>False</td>\n",
              "      <td>False</td>\n",
              "    </tr>\n",
              "  </tbody>\n",
              "</table>\n",
              "</div>"
            ],
            "text/plain": [
              "      1      2      3      4\n",
              "0  True  False  False  False\n",
              "1  True  False  False  False\n",
              "2  True  False  False  False\n",
              "3  True  False  False  False\n",
              "4  True  False  False  False"
            ]
          },
          "execution_count": 8,
          "metadata": {},
          "output_type": "execute_result"
        }
      ],
      "source": [
        "# get_dummies\n",
        "y = pd.get_dummies(y)\n",
        "\n",
        "y.head()"
      ]
    },
    {
      "cell_type": "code",
      "execution_count": 9,
      "metadata": {
        "id": "-wiETWZtqBMw"
      },
      "outputs": [],
      "source": [
        "#Splitting into training/testing datasets\n",
        "X_train, X_test, y_train, y_test = train_test_split(X, y, random_state=42, stratify=y)"
      ]
    },
    {
      "cell_type": "code",
      "execution_count": 10,
      "metadata": {
        "id": "8rleOO4cqBMw"
      },
      "outputs": [],
      "source": [
        "# Create a StandardScaler instances\n",
        "scaler = StandardScaler()\n",
        "\n",
        "# Fit the StandardScaler\n",
        "X_scaler = scaler.fit(X_train)\n",
        "\n",
        "# Scale the data\n",
        "X_train_scaled = X_scaler.transform(X_train)\n",
        "X_test_scaled = X_scaler.transform(X_test)"
      ]
    },
    {
      "cell_type": "markdown",
      "metadata": {
        "id": "p-e7Tohf1H3J"
      },
      "source": [
        "**Model Optimization**"
      ]
    },
    {
      "cell_type": "code",
      "execution_count": 13,
      "metadata": {
        "colab": {
          "base_uri": "https://localhost:8080/"
        },
        "id": "lz9BpjjcuPoj",
        "outputId": "fedd191e-1107-426b-eff9-7cbd584f8b26"
      },
      "outputs": [
        {
          "name": "stderr",
          "output_type": "stream",
          "text": [
            "c:\\Users\\jacqu\\anaconda3\\envs\\dev\\lib\\site-packages\\keras\\src\\layers\\core\\dense.py:86: UserWarning: Do not pass an `input_shape`/`input_dim` argument to a layer. When using Sequential models, prefer using an `Input(shape)` object as the first layer in the model instead.\n",
            "  super().__init__(activity_regularizer=activity_regularizer, **kwargs)\n"
          ]
        },
        {
          "data": {
            "text/html": [
              "<pre style=\"white-space:pre;overflow-x:auto;line-height:normal;font-family:Menlo,'DejaVu Sans Mono',consolas,'Courier New',monospace\"><span style=\"font-weight: bold\">Model: \"sequential_1\"</span>\n",
              "</pre>\n"
            ],
            "text/plain": [
              "\u001b[1mModel: \"sequential_1\"\u001b[0m\n"
            ]
          },
          "metadata": {},
          "output_type": "display_data"
        },
        {
          "data": {
            "text/html": [
              "<pre style=\"white-space:pre;overflow-x:auto;line-height:normal;font-family:Menlo,'DejaVu Sans Mono',consolas,'Courier New',monospace\">┏━━━━━━━━━━━━━━━━━━━━━━━━━━━━━━━━━┳━━━━━━━━━━━━━━━━━━━━━━━━┳━━━━━━━━━━━━━━━┓\n",
              "┃<span style=\"font-weight: bold\"> Layer (type)                    </span>┃<span style=\"font-weight: bold\"> Output Shape           </span>┃<span style=\"font-weight: bold\">       Param # </span>┃\n",
              "┡━━━━━━━━━━━━━━━━━━━━━━━━━━━━━━━━━╇━━━━━━━━━━━━━━━━━━━━━━━━╇━━━━━━━━━━━━━━━┩\n",
              "│ dense_3 (<span style=\"color: #0087ff; text-decoration-color: #0087ff\">Dense</span>)                 │ (<span style=\"color: #00d7ff; text-decoration-color: #00d7ff\">None</span>, <span style=\"color: #00af00; text-decoration-color: #00af00\">300</span>)            │         <span style=\"color: #00af00; text-decoration-color: #00af00\">2,700</span> │\n",
              "├─────────────────────────────────┼────────────────────────┼───────────────┤\n",
              "│ dense_4 (<span style=\"color: #0087ff; text-decoration-color: #0087ff\">Dense</span>)                 │ (<span style=\"color: #00d7ff; text-decoration-color: #00d7ff\">None</span>, <span style=\"color: #00af00; text-decoration-color: #00af00\">300</span>)            │        <span style=\"color: #00af00; text-decoration-color: #00af00\">90,300</span> │\n",
              "├─────────────────────────────────┼────────────────────────┼───────────────┤\n",
              "│ dense_5 (<span style=\"color: #0087ff; text-decoration-color: #0087ff\">Dense</span>)                 │ (<span style=\"color: #00d7ff; text-decoration-color: #00d7ff\">None</span>, <span style=\"color: #00af00; text-decoration-color: #00af00\">250</span>)            │        <span style=\"color: #00af00; text-decoration-color: #00af00\">75,250</span> │\n",
              "├─────────────────────────────────┼────────────────────────┼───────────────┤\n",
              "│ dense_6 (<span style=\"color: #0087ff; text-decoration-color: #0087ff\">Dense</span>)                 │ (<span style=\"color: #00d7ff; text-decoration-color: #00d7ff\">None</span>, <span style=\"color: #00af00; text-decoration-color: #00af00\">250</span>)            │        <span style=\"color: #00af00; text-decoration-color: #00af00\">62,750</span> │\n",
              "├─────────────────────────────────┼────────────────────────┼───────────────┤\n",
              "│ dense_7 (<span style=\"color: #0087ff; text-decoration-color: #0087ff\">Dense</span>)                 │ (<span style=\"color: #00d7ff; text-decoration-color: #00d7ff\">None</span>, <span style=\"color: #00af00; text-decoration-color: #00af00\">4</span>)              │         <span style=\"color: #00af00; text-decoration-color: #00af00\">1,004</span> │\n",
              "└─────────────────────────────────┴────────────────────────┴───────────────┘\n",
              "</pre>\n"
            ],
            "text/plain": [
              "┏━━━━━━━━━━━━━━━━━━━━━━━━━━━━━━━━━┳━━━━━━━━━━━━━━━━━━━━━━━━┳━━━━━━━━━━━━━━━┓\n",
              "┃\u001b[1m \u001b[0m\u001b[1mLayer (type)                   \u001b[0m\u001b[1m \u001b[0m┃\u001b[1m \u001b[0m\u001b[1mOutput Shape          \u001b[0m\u001b[1m \u001b[0m┃\u001b[1m \u001b[0m\u001b[1m      Param #\u001b[0m\u001b[1m \u001b[0m┃\n",
              "┡━━━━━━━━━━━━━━━━━━━━━━━━━━━━━━━━━╇━━━━━━━━━━━━━━━━━━━━━━━━╇━━━━━━━━━━━━━━━┩\n",
              "│ dense_3 (\u001b[38;5;33mDense\u001b[0m)                 │ (\u001b[38;5;45mNone\u001b[0m, \u001b[38;5;34m300\u001b[0m)            │         \u001b[38;5;34m2,700\u001b[0m │\n",
              "├─────────────────────────────────┼────────────────────────┼───────────────┤\n",
              "│ dense_4 (\u001b[38;5;33mDense\u001b[0m)                 │ (\u001b[38;5;45mNone\u001b[0m, \u001b[38;5;34m300\u001b[0m)            │        \u001b[38;5;34m90,300\u001b[0m │\n",
              "├─────────────────────────────────┼────────────────────────┼───────────────┤\n",
              "│ dense_5 (\u001b[38;5;33mDense\u001b[0m)                 │ (\u001b[38;5;45mNone\u001b[0m, \u001b[38;5;34m250\u001b[0m)            │        \u001b[38;5;34m75,250\u001b[0m │\n",
              "├─────────────────────────────────┼────────────────────────┼───────────────┤\n",
              "│ dense_6 (\u001b[38;5;33mDense\u001b[0m)                 │ (\u001b[38;5;45mNone\u001b[0m, \u001b[38;5;34m250\u001b[0m)            │        \u001b[38;5;34m62,750\u001b[0m │\n",
              "├─────────────────────────────────┼────────────────────────┼───────────────┤\n",
              "│ dense_7 (\u001b[38;5;33mDense\u001b[0m)                 │ (\u001b[38;5;45mNone\u001b[0m, \u001b[38;5;34m4\u001b[0m)              │         \u001b[38;5;34m1,004\u001b[0m │\n",
              "└─────────────────────────────────┴────────────────────────┴───────────────┘\n"
            ]
          },
          "metadata": {},
          "output_type": "display_data"
        },
        {
          "data": {
            "text/html": [
              "<pre style=\"white-space:pre;overflow-x:auto;line-height:normal;font-family:Menlo,'DejaVu Sans Mono',consolas,'Courier New',monospace\"><span style=\"font-weight: bold\"> Total params: </span><span style=\"color: #00af00; text-decoration-color: #00af00\">232,004</span> (906.27 KB)\n",
              "</pre>\n"
            ],
            "text/plain": [
              "\u001b[1m Total params: \u001b[0m\u001b[38;5;34m232,004\u001b[0m (906.27 KB)\n"
            ]
          },
          "metadata": {},
          "output_type": "display_data"
        },
        {
          "data": {
            "text/html": [
              "<pre style=\"white-space:pre;overflow-x:auto;line-height:normal;font-family:Menlo,'DejaVu Sans Mono',consolas,'Courier New',monospace\"><span style=\"font-weight: bold\"> Trainable params: </span><span style=\"color: #00af00; text-decoration-color: #00af00\">232,004</span> (906.27 KB)\n",
              "</pre>\n"
            ],
            "text/plain": [
              "\u001b[1m Trainable params: \u001b[0m\u001b[38;5;34m232,004\u001b[0m (906.27 KB)\n"
            ]
          },
          "metadata": {},
          "output_type": "display_data"
        },
        {
          "data": {
            "text/html": [
              "<pre style=\"white-space:pre;overflow-x:auto;line-height:normal;font-family:Menlo,'DejaVu Sans Mono',consolas,'Courier New',monospace\"><span style=\"font-weight: bold\"> Non-trainable params: </span><span style=\"color: #00af00; text-decoration-color: #00af00\">0</span> (0.00 B)\n",
              "</pre>\n"
            ],
            "text/plain": [
              "\u001b[1m Non-trainable params: \u001b[0m\u001b[38;5;34m0\u001b[0m (0.00 B)\n"
            ]
          },
          "metadata": {},
          "output_type": "display_data"
        }
      ],
      "source": [
        "# Optimizing the model by increasing the number of neurons in each hidden layer, adding an additional hidden layer, and adjusting the activation functions\n",
        "num_input_features = len(X_train_scaled[0])\n",
        "hidden_layer_nodes_1 = 300\n",
        "hidden_layer_nodes_2 = 300\n",
        "hidden_layer_nodes_3 = 250\n",
        "hidden_layer_nodes_4 = 250\n",
        "\n",
        "nn = tf.keras.models.Sequential()\n",
        "\n",
        "# Creating first hidden layer\n",
        "nn.add(tf.keras.layers.Dense(units=hidden_layer_nodes_1, input_dim=num_input_features, activation=\"relu\"))\n",
        "\n",
        "# Creating second hidden layer\n",
        "nn.add(tf.keras.layers.Dense(units=hidden_layer_nodes_2, activation=\"relu\"))\n",
        "\n",
        "# Creating third hidden layer\n",
        "nn.add(tf.keras.layers.Dense(units=hidden_layer_nodes_3, activation=\"relu\"))\n",
        "\n",
        "# Creating fourth hidden layer\n",
        "nn.add(tf.keras.layers.Dense(units=hidden_layer_nodes_4, activation=\"relu\"))\n",
        "\n",
        "# Output layer\n",
        "nn.add(tf.keras.layers.Dense(units=4, activation=\"sigmoid\"))\n",
        "\n",
        "# Check the structure of the model\n",
        "nn.summary()"
      ]
    },
    {
      "cell_type": "code",
      "execution_count": 14,
      "metadata": {
        "colab": {
          "base_uri": "https://localhost:8080/"
        },
        "id": "28bRn9yDucSG",
        "outputId": "d600780b-96cf-47ad-cc9a-ff5de5363156"
      },
      "outputs": [
        {
          "name": "stdout",
          "output_type": "stream",
          "text": [
            "Epoch 1/30\n",
            "\u001b[1m2430/2430\u001b[0m \u001b[32m━━━━━━━━━━━━━━━━━━━━\u001b[0m\u001b[37m\u001b[0m \u001b[1m11s\u001b[0m 4ms/step - accuracy: 0.4151 - loss: 0.5107\n",
            "Epoch 2/30\n",
            "\u001b[1m2430/2430\u001b[0m \u001b[32m━━━━━━━━━━━━━━━━━━━━\u001b[0m\u001b[37m\u001b[0m \u001b[1m9s\u001b[0m 4ms/step - accuracy: 0.6242 - loss: 0.3714\n",
            "Epoch 3/30\n",
            "\u001b[1m2430/2430\u001b[0m \u001b[32m━━━━━━━━━━━━━━━━━━━━\u001b[0m\u001b[37m\u001b[0m \u001b[1m10s\u001b[0m 4ms/step - accuracy: 0.6650 - loss: 0.3333\n",
            "Epoch 4/30\n",
            "\u001b[1m2430/2430\u001b[0m \u001b[32m━━━━━━━━━━━━━━━━━━━━\u001b[0m\u001b[37m\u001b[0m \u001b[1m11s\u001b[0m 5ms/step - accuracy: 0.6833 - loss: 0.3167\n",
            "Epoch 5/30\n",
            "\u001b[1m2430/2430\u001b[0m \u001b[32m━━━━━━━━━━━━━━━━━━━━\u001b[0m\u001b[37m\u001b[0m \u001b[1m12s\u001b[0m 5ms/step - accuracy: 0.6961 - loss: 0.3049\n",
            "Epoch 6/30\n",
            "\u001b[1m2430/2430\u001b[0m \u001b[32m━━━━━━━━━━━━━━━━━━━━\u001b[0m\u001b[37m\u001b[0m \u001b[1m15s\u001b[0m 6ms/step - accuracy: 0.7087 - loss: 0.2962\n",
            "Epoch 7/30\n",
            "\u001b[1m2430/2430\u001b[0m \u001b[32m━━━━━━━━━━━━━━━━━━━━\u001b[0m\u001b[37m\u001b[0m \u001b[1m12s\u001b[0m 5ms/step - accuracy: 0.7108 - loss: 0.2913\n",
            "Epoch 8/30\n",
            "\u001b[1m2430/2430\u001b[0m \u001b[32m━━━━━━━━━━━━━━━━━━━━\u001b[0m\u001b[37m\u001b[0m \u001b[1m11s\u001b[0m 5ms/step - accuracy: 0.7166 - loss: 0.2865\n",
            "Epoch 9/30\n",
            "\u001b[1m2430/2430\u001b[0m \u001b[32m━━━━━━━━━━━━━━━━━━━━\u001b[0m\u001b[37m\u001b[0m \u001b[1m9s\u001b[0m 4ms/step - accuracy: 0.7197 - loss: 0.2830\n",
            "Epoch 10/30\n",
            "\u001b[1m2430/2430\u001b[0m \u001b[32m━━━━━━━━━━━━━━━━━━━━\u001b[0m\u001b[37m\u001b[0m \u001b[1m14s\u001b[0m 6ms/step - accuracy: 0.7241 - loss: 0.2795\n",
            "Epoch 11/30\n",
            "\u001b[1m2430/2430\u001b[0m \u001b[32m━━━━━━━━━━━━━━━━━━━━\u001b[0m\u001b[37m\u001b[0m \u001b[1m23s\u001b[0m 9ms/step - accuracy: 0.7283 - loss: 0.2770\n",
            "Epoch 12/30\n",
            "\u001b[1m2430/2430\u001b[0m \u001b[32m━━━━━━━━━━━━━━━━━━━━\u001b[0m\u001b[37m\u001b[0m \u001b[1m29s\u001b[0m 4ms/step - accuracy: 0.7306 - loss: 0.2733\n",
            "Epoch 13/30\n",
            "\u001b[1m2430/2430\u001b[0m \u001b[32m━━━━━━━━━━━━━━━━━━━━\u001b[0m\u001b[37m\u001b[0m \u001b[1m14s\u001b[0m 6ms/step - accuracy: 0.7329 - loss: 0.2713\n",
            "Epoch 14/30\n",
            "\u001b[1m2430/2430\u001b[0m \u001b[32m━━━━━━━━━━━━━━━━━━━━\u001b[0m\u001b[37m\u001b[0m \u001b[1m11s\u001b[0m 5ms/step - accuracy: 0.7345 - loss: 0.2684\n",
            "Epoch 15/30\n",
            "\u001b[1m2430/2430\u001b[0m \u001b[32m━━━━━━━━━━━━━━━━━━━━\u001b[0m\u001b[37m\u001b[0m \u001b[1m12s\u001b[0m 5ms/step - accuracy: 0.7406 - loss: 0.2660\n",
            "Epoch 16/30\n",
            "\u001b[1m2430/2430\u001b[0m \u001b[32m━━━━━━━━━━━━━━━━━━━━\u001b[0m\u001b[37m\u001b[0m \u001b[1m12s\u001b[0m 5ms/step - accuracy: 0.7379 - loss: 0.2644\n",
            "Epoch 17/30\n",
            "\u001b[1m2430/2430\u001b[0m \u001b[32m━━━━━━━━━━━━━━━━━━━━\u001b[0m\u001b[37m\u001b[0m \u001b[1m11s\u001b[0m 5ms/step - accuracy: 0.7381 - loss: 0.2644\n",
            "Epoch 18/30\n",
            "\u001b[1m2430/2430\u001b[0m \u001b[32m━━━━━━━━━━━━━━━━━━━━\u001b[0m\u001b[37m\u001b[0m \u001b[1m13s\u001b[0m 5ms/step - accuracy: 0.7401 - loss: 0.2618\n",
            "Epoch 19/30\n",
            "\u001b[1m2430/2430\u001b[0m \u001b[32m━━━━━━━━━━━━━━━━━━━━\u001b[0m\u001b[37m\u001b[0m \u001b[1m13s\u001b[0m 5ms/step - accuracy: 0.7452 - loss: 0.2591\n",
            "Epoch 20/30\n",
            "\u001b[1m2430/2430\u001b[0m \u001b[32m━━━━━━━━━━━━━━━━━━━━\u001b[0m\u001b[37m\u001b[0m \u001b[1m12s\u001b[0m 5ms/step - accuracy: 0.7404 - loss: 0.2612\n",
            "Epoch 21/30\n",
            "\u001b[1m2430/2430\u001b[0m \u001b[32m━━━━━━━━━━━━━━━━━━━━\u001b[0m\u001b[37m\u001b[0m \u001b[1m14s\u001b[0m 6ms/step - accuracy: 0.7443 - loss: 0.2577\n",
            "Epoch 22/30\n",
            "\u001b[1m2430/2430\u001b[0m \u001b[32m━━━━━━━━━━━━━━━━━━━━\u001b[0m\u001b[37m\u001b[0m \u001b[1m13s\u001b[0m 5ms/step - accuracy: 0.7424 - loss: 0.2578\n",
            "Epoch 23/30\n",
            "\u001b[1m2430/2430\u001b[0m \u001b[32m━━━━━━━━━━━━━━━━━━━━\u001b[0m\u001b[37m\u001b[0m \u001b[1m12s\u001b[0m 5ms/step - accuracy: 0.7459 - loss: 0.2575\n",
            "Epoch 24/30\n",
            "\u001b[1m2430/2430\u001b[0m \u001b[32m━━━━━━━━━━━━━━━━━━━━\u001b[0m\u001b[37m\u001b[0m \u001b[1m11s\u001b[0m 5ms/step - accuracy: 0.7456 - loss: 0.2549\n",
            "Epoch 25/30\n",
            "\u001b[1m2430/2430\u001b[0m \u001b[32m━━━━━━━━━━━━━━━━━━━━\u001b[0m\u001b[37m\u001b[0m \u001b[1m14s\u001b[0m 6ms/step - accuracy: 0.7475 - loss: 0.2544\n",
            "Epoch 26/30\n",
            "\u001b[1m2430/2430\u001b[0m \u001b[32m━━━━━━━━━━━━━━━━━━━━\u001b[0m\u001b[37m\u001b[0m \u001b[1m13s\u001b[0m 5ms/step - accuracy: 0.7470 - loss: 0.2551\n",
            "Epoch 27/30\n",
            "\u001b[1m2430/2430\u001b[0m \u001b[32m━━━━━━━━━━━━━━━━━━━━\u001b[0m\u001b[37m\u001b[0m \u001b[1m13s\u001b[0m 5ms/step - accuracy: 0.7478 - loss: 0.2527\n",
            "Epoch 28/30\n",
            "\u001b[1m2430/2430\u001b[0m \u001b[32m━━━━━━━━━━━━━━━━━━━━\u001b[0m\u001b[37m\u001b[0m \u001b[1m12s\u001b[0m 5ms/step - accuracy: 0.7504 - loss: 0.2505\n",
            "Epoch 29/30\n",
            "\u001b[1m2430/2430\u001b[0m \u001b[32m━━━━━━━━━━━━━━━━━━━━\u001b[0m\u001b[37m\u001b[0m \u001b[1m14s\u001b[0m 6ms/step - accuracy: 0.7511 - loss: 0.2509\n",
            "Epoch 30/30\n",
            "\u001b[1m2430/2430\u001b[0m \u001b[32m━━━━━━━━━━━━━━━━━━━━\u001b[0m\u001b[37m\u001b[0m \u001b[1m16s\u001b[0m 6ms/step - accuracy: 0.7494 - loss: 0.2515\n"
          ]
        }
      ],
      "source": [
        "# Compiling and training the optimized model, changing loss function as well\n",
        "nn.compile(loss='binary_crossentropy', optimizer='adam', metrics=['accuracy'])\n",
        "fit_model = nn.fit(X_train_scaled,y_train,epochs=30)"
      ]
    },
    {
      "cell_type": "code",
      "execution_count": 15,
      "metadata": {
        "colab": {
          "base_uri": "https://localhost:8080/"
        },
        "id": "XnqqX9_ucazY",
        "outputId": "e31508c8-626e-40d4-eb99-6a06eba21653"
      },
      "outputs": [
        {
          "name": "stdout",
          "output_type": "stream",
          "text": [
            "2430/2430 - 5s - 2ms/step - accuracy: 0.7569 - loss: 0.2439\n",
            "Loss: 0.24392682313919067, Accuracy: 0.7568721771240234\n"
          ]
        }
      ],
      "source": [
        "# Evaluate the performance of the optimized model using the loss and predictive accuracy of the model on the test dataset.\n",
        "model_loss, model_accuracy = nn.evaluate(X_train_scaled,y_train,verbose=2)\n",
        "print(f\"Loss: {model_loss}, Accuracy: {model_accuracy}\")"
      ]
    },
    {
      "cell_type": "code",
      "execution_count": 16,
      "metadata": {},
      "outputs": [
        {
          "name": "stdout",
          "output_type": "stream",
          "text": [
            "810/810 - 2s - 2ms/step - accuracy: 0.7282 - loss: 0.2767\n",
            "Loss: 0.276745468378067, Accuracy: 0.7281778454780579\n"
          ]
        }
      ],
      "source": [
        "model_loss, model_accuracy = nn.evaluate(X_test_scaled,y_test,verbose=2)\n",
        "print(f\"Loss: {model_loss}, Accuracy: {model_accuracy}\")"
      ]
    },
    {
      "cell_type": "code",
      "execution_count": 17,
      "metadata": {
        "colab": {
          "base_uri": "https://localhost:8080/"
        },
        "id": "0MBsc9dLglRh",
        "outputId": "027b53fd-109e-4ed0-dc9d-cd96acc95d84"
      },
      "outputs": [
        {
          "name": "stderr",
          "output_type": "stream",
          "text": [
            "WARNING:absl:You are saving your model as an HDF5 file via `model.save()` or `keras.saving.save_model(model)`. This file format is considered legacy. We recommend using instead the native Keras format, e.g. `model.save('my_model.keras')` or `keras.saving.save_model(model, 'my_model.keras')`. \n"
          ]
        }
      ],
      "source": [
        "nn.save('Spotify_ML_Optimization.h5')"
      ]
    }
  ],
  "metadata": {
    "colab": {
      "provenance": []
    },
    "kernelspec": {
      "display_name": "dev",
      "language": "python",
      "name": "python3"
    },
    "language_info": {
      "codemirror_mode": {
        "name": "ipython",
        "version": 3
      },
      "file_extension": ".py",
      "mimetype": "text/x-python",
      "name": "python",
      "nbconvert_exporter": "python",
      "pygments_lexer": "ipython3",
      "version": "3.10.13"
    }
  },
  "nbformat": 4,
  "nbformat_minor": 0
}
