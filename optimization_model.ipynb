{
  "cells": [
    {
      "cell_type": "code",
      "execution_count": 25,
      "metadata": {
        "colab": {
          "base_uri": "https://localhost:8080/",
          "height": 487
        },
        "id": "2WCyDoy_qBMs",
        "outputId": "15b49cb7-6c09-400f-c349-88b0ae7d197f"
      },
      "outputs": [
        {
          "data": {
            "text/html": [
              "<div>\n",
              "<style scoped>\n",
              "    .dataframe tbody tr th:only-of-type {\n",
              "        vertical-align: middle;\n",
              "    }\n",
              "\n",
              "    .dataframe tbody tr th {\n",
              "        vertical-align: top;\n",
              "    }\n",
              "\n",
              "    .dataframe thead th {\n",
              "        text-align: right;\n",
              "    }\n",
              "</style>\n",
              "<table border=\"1\" class=\"dataframe\">\n",
              "  <thead>\n",
              "    <tr style=\"text-align: right;\">\n",
              "      <th></th>\n",
              "      <th>Unnamed: 0</th>\n",
              "      <th>Rank</th>\n",
              "      <th>Date</th>\n",
              "      <th>Title</th>\n",
              "      <th>Danceability</th>\n",
              "      <th>Energy</th>\n",
              "      <th>Loudness</th>\n",
              "      <th>Speechiness</th>\n",
              "      <th>Acousticness</th>\n",
              "      <th>Instrumentalness</th>\n",
              "      <th>Valence</th>\n",
              "      <th>id</th>\n",
              "      <th>Date_value</th>\n",
              "    </tr>\n",
              "  </thead>\n",
              "  <tbody>\n",
              "    <tr>\n",
              "      <th>0</th>\n",
              "      <td>0</td>\n",
              "      <td>1</td>\n",
              "      <td>29/05/2023</td>\n",
              "      <td>Ella Baila Sola</td>\n",
              "      <td>0.668</td>\n",
              "      <td>0.758</td>\n",
              "      <td>-5176.0</td>\n",
              "      <td>0.033</td>\n",
              "      <td>0.483</td>\n",
              "      <td>0.000</td>\n",
              "      <td>0.834</td>\n",
              "      <td>3qQbCzHBycnDpGskqOWY0E</td>\n",
              "      <td>0.485714</td>\n",
              "    </tr>\n",
              "    <tr>\n",
              "      <th>1</th>\n",
              "      <td>1</td>\n",
              "      <td>1</td>\n",
              "      <td>29/05/2023</td>\n",
              "      <td>Ella Baila Sola</td>\n",
              "      <td>0.668</td>\n",
              "      <td>0.758</td>\n",
              "      <td>-5176.0</td>\n",
              "      <td>0.033</td>\n",
              "      <td>0.483</td>\n",
              "      <td>0.000</td>\n",
              "      <td>0.834</td>\n",
              "      <td>3qQbCzHBycnDpGskqOWY0E</td>\n",
              "      <td>0.485714</td>\n",
              "    </tr>\n",
              "    <tr>\n",
              "      <th>2</th>\n",
              "      <td>2</td>\n",
              "      <td>2</td>\n",
              "      <td>29/05/2023</td>\n",
              "      <td>WHERE SHE GOES</td>\n",
              "      <td>0.652</td>\n",
              "      <td>0.800</td>\n",
              "      <td>-4019.0</td>\n",
              "      <td>0.061</td>\n",
              "      <td>0.143</td>\n",
              "      <td>0.629</td>\n",
              "      <td>0.234</td>\n",
              "      <td>7ro0hRteUMfnOioTFI5TG1</td>\n",
              "      <td>0.485714</td>\n",
              "    </tr>\n",
              "    <tr>\n",
              "      <th>3</th>\n",
              "      <td>3</td>\n",
              "      <td>3</td>\n",
              "      <td>29/05/2023</td>\n",
              "      <td>La Bebe - Remix</td>\n",
              "      <td>0.812</td>\n",
              "      <td>0.479</td>\n",
              "      <td>-5678.0</td>\n",
              "      <td>0.333</td>\n",
              "      <td>0.213</td>\n",
              "      <td>0.000</td>\n",
              "      <td>0.559</td>\n",
              "      <td>2UW7JaomAMuX9pZrjVpHAU</td>\n",
              "      <td>0.485714</td>\n",
              "    </tr>\n",
              "    <tr>\n",
              "      <th>4</th>\n",
              "      <td>4</td>\n",
              "      <td>3</td>\n",
              "      <td>29/05/2023</td>\n",
              "      <td>La Bebe - Remix</td>\n",
              "      <td>0.812</td>\n",
              "      <td>0.479</td>\n",
              "      <td>-5678.0</td>\n",
              "      <td>0.333</td>\n",
              "      <td>0.213</td>\n",
              "      <td>0.000</td>\n",
              "      <td>0.559</td>\n",
              "      <td>2UW7JaomAMuX9pZrjVpHAU</td>\n",
              "      <td>0.485714</td>\n",
              "    </tr>\n",
              "  </tbody>\n",
              "</table>\n",
              "</div>"
            ],
            "text/plain": [
              "   Unnamed: 0  Rank        Date            Title  Danceability  Energy  \\\n",
              "0           0     1  29/05/2023  Ella Baila Sola         0.668   0.758   \n",
              "1           1     1  29/05/2023  Ella Baila Sola         0.668   0.758   \n",
              "2           2     2  29/05/2023   WHERE SHE GOES         0.652   0.800   \n",
              "3           3     3  29/05/2023  La Bebe - Remix         0.812   0.479   \n",
              "4           4     3  29/05/2023  La Bebe - Remix         0.812   0.479   \n",
              "\n",
              "   Loudness  Speechiness  Acousticness  Instrumentalness  Valence  \\\n",
              "0   -5176.0        0.033         0.483             0.000    0.834   \n",
              "1   -5176.0        0.033         0.483             0.000    0.834   \n",
              "2   -4019.0        0.061         0.143             0.629    0.234   \n",
              "3   -5678.0        0.333         0.213             0.000    0.559   \n",
              "4   -5678.0        0.333         0.213             0.000    0.559   \n",
              "\n",
              "                       id  Date_value  \n",
              "0  3qQbCzHBycnDpGskqOWY0E    0.485714  \n",
              "1  3qQbCzHBycnDpGskqOWY0E    0.485714  \n",
              "2  7ro0hRteUMfnOioTFI5TG1    0.485714  \n",
              "3  2UW7JaomAMuX9pZrjVpHAU    0.485714  \n",
              "4  2UW7JaomAMuX9pZrjVpHAU    0.485714  "
            ]
          },
          "execution_count": 25,
          "metadata": {},
          "output_type": "execute_result"
        }
      ],
      "source": [
        "# Import our dependencies\n",
        "from sklearn.model_selection import train_test_split\n",
        "from sklearn.preprocessing import StandardScaler\n",
        "import pandas as pd\n",
        "import tensorflow as tf\n",
        "\n",
        "# Reading CSV file and creating DataFrame\n",
        "df = pd.read_csv(\"data/Big_Data_2022_05_30.csv\")\n",
        "df.head()"
      ]
    },
    {
      "cell_type": "code",
      "execution_count": 26,
      "metadata": {
        "colab": {
          "base_uri": "https://localhost:8080/",
          "height": 469
        },
        "id": "7GWe7aMWqBMv",
        "outputId": "d7c6df9e-022e-4aa7-fc31-91a10f82ff40"
      },
      "outputs": [
        {
          "data": {
            "text/html": [
              "<div>\n",
              "<style scoped>\n",
              "    .dataframe tbody tr th:only-of-type {\n",
              "        vertical-align: middle;\n",
              "    }\n",
              "\n",
              "    .dataframe tbody tr th {\n",
              "        vertical-align: top;\n",
              "    }\n",
              "\n",
              "    .dataframe thead th {\n",
              "        text-align: right;\n",
              "    }\n",
              "</style>\n",
              "<table border=\"1\" class=\"dataframe\">\n",
              "  <thead>\n",
              "    <tr style=\"text-align: right;\">\n",
              "      <th></th>\n",
              "      <th>Unnamed: 0</th>\n",
              "      <th>Rank</th>\n",
              "      <th>Danceability</th>\n",
              "      <th>Energy</th>\n",
              "      <th>Loudness</th>\n",
              "      <th>Speechiness</th>\n",
              "      <th>Acousticness</th>\n",
              "      <th>Instrumentalness</th>\n",
              "      <th>Valence</th>\n",
              "      <th>Date_value</th>\n",
              "    </tr>\n",
              "  </thead>\n",
              "  <tbody>\n",
              "    <tr>\n",
              "      <th>0</th>\n",
              "      <td>0</td>\n",
              "      <td>1</td>\n",
              "      <td>0.668</td>\n",
              "      <td>0.758</td>\n",
              "      <td>-5176.0</td>\n",
              "      <td>0.033</td>\n",
              "      <td>0.483</td>\n",
              "      <td>0.000</td>\n",
              "      <td>0.834</td>\n",
              "      <td>0.485714</td>\n",
              "    </tr>\n",
              "    <tr>\n",
              "      <th>1</th>\n",
              "      <td>1</td>\n",
              "      <td>1</td>\n",
              "      <td>0.668</td>\n",
              "      <td>0.758</td>\n",
              "      <td>-5176.0</td>\n",
              "      <td>0.033</td>\n",
              "      <td>0.483</td>\n",
              "      <td>0.000</td>\n",
              "      <td>0.834</td>\n",
              "      <td>0.485714</td>\n",
              "    </tr>\n",
              "    <tr>\n",
              "      <th>2</th>\n",
              "      <td>2</td>\n",
              "      <td>2</td>\n",
              "      <td>0.652</td>\n",
              "      <td>0.800</td>\n",
              "      <td>-4019.0</td>\n",
              "      <td>0.061</td>\n",
              "      <td>0.143</td>\n",
              "      <td>0.629</td>\n",
              "      <td>0.234</td>\n",
              "      <td>0.485714</td>\n",
              "    </tr>\n",
              "    <tr>\n",
              "      <th>3</th>\n",
              "      <td>3</td>\n",
              "      <td>3</td>\n",
              "      <td>0.812</td>\n",
              "      <td>0.479</td>\n",
              "      <td>-5678.0</td>\n",
              "      <td>0.333</td>\n",
              "      <td>0.213</td>\n",
              "      <td>0.000</td>\n",
              "      <td>0.559</td>\n",
              "      <td>0.485714</td>\n",
              "    </tr>\n",
              "    <tr>\n",
              "      <th>4</th>\n",
              "      <td>4</td>\n",
              "      <td>3</td>\n",
              "      <td>0.812</td>\n",
              "      <td>0.479</td>\n",
              "      <td>-5678.0</td>\n",
              "      <td>0.333</td>\n",
              "      <td>0.213</td>\n",
              "      <td>0.000</td>\n",
              "      <td>0.559</td>\n",
              "      <td>0.485714</td>\n",
              "    </tr>\n",
              "  </tbody>\n",
              "</table>\n",
              "</div>"
            ],
            "text/plain": [
              "   Unnamed: 0  Rank  Danceability  Energy  Loudness  Speechiness  \\\n",
              "0           0     1         0.668   0.758   -5176.0        0.033   \n",
              "1           1     1         0.668   0.758   -5176.0        0.033   \n",
              "2           2     2         0.652   0.800   -4019.0        0.061   \n",
              "3           3     3         0.812   0.479   -5678.0        0.333   \n",
              "4           4     3         0.812   0.479   -5678.0        0.333   \n",
              "\n",
              "   Acousticness  Instrumentalness  Valence  Date_value  \n",
              "0         0.483             0.000    0.834    0.485714  \n",
              "1         0.483             0.000    0.834    0.485714  \n",
              "2         0.143             0.629    0.234    0.485714  \n",
              "3         0.213             0.000    0.559    0.485714  \n",
              "4         0.213             0.000    0.559    0.485714  "
            ]
          },
          "execution_count": 26,
          "metadata": {},
          "output_type": "execute_result"
        }
      ],
      "source": [
        "# Dropping collumns not needed to train our model\n",
        "df = df.drop(columns=[\"Date\",\"Title\",\"id\"])\n",
        "df.head()\n"
      ]
    },
    {
      "cell_type": "code",
      "execution_count": 27,
      "metadata": {
        "id": "8ev9mRpBqBMv"
      },
      "outputs": [],
      "source": [
        "#Binning our data\n",
        "\n",
        "# Defining bin edges and labels\n",
        "bins = [0, 50, 100, 150, 200]\n",
        "labels = [1, 2, 3, 4]\n",
        "\n",
        "#Creating column with binned data\n",
        "df['Popularity'] = pd.cut(df['Rank'], bins=bins, labels=labels, right=True)\n",
        "\n"
      ]
    },
    {
      "cell_type": "code",
      "execution_count": 28,
      "metadata": {
        "colab": {
          "base_uri": "https://localhost:8080/",
          "height": 206
        },
        "id": "foOOf4tKqBMv",
        "outputId": "927d2397-a097-45ff-8c9d-ae03fcb393e7"
      },
      "outputs": [
        {
          "data": {
            "text/html": [
              "<div>\n",
              "<style scoped>\n",
              "    .dataframe tbody tr th:only-of-type {\n",
              "        vertical-align: middle;\n",
              "    }\n",
              "\n",
              "    .dataframe tbody tr th {\n",
              "        vertical-align: top;\n",
              "    }\n",
              "\n",
              "    .dataframe thead th {\n",
              "        text-align: right;\n",
              "    }\n",
              "</style>\n",
              "<table border=\"1\" class=\"dataframe\">\n",
              "  <thead>\n",
              "    <tr style=\"text-align: right;\">\n",
              "      <th></th>\n",
              "      <th>Danceability</th>\n",
              "      <th>Energy</th>\n",
              "      <th>Loudness</th>\n",
              "      <th>Speechiness</th>\n",
              "      <th>Acousticness</th>\n",
              "      <th>Instrumentalness</th>\n",
              "      <th>Valence</th>\n",
              "      <th>Date_value</th>\n",
              "      <th>Popularity</th>\n",
              "    </tr>\n",
              "  </thead>\n",
              "  <tbody>\n",
              "    <tr>\n",
              "      <th>0</th>\n",
              "      <td>0.668</td>\n",
              "      <td>0.758</td>\n",
              "      <td>-5176.0</td>\n",
              "      <td>0.033</td>\n",
              "      <td>0.483</td>\n",
              "      <td>0.000</td>\n",
              "      <td>0.834</td>\n",
              "      <td>0.485714</td>\n",
              "      <td>1</td>\n",
              "    </tr>\n",
              "    <tr>\n",
              "      <th>1</th>\n",
              "      <td>0.668</td>\n",
              "      <td>0.758</td>\n",
              "      <td>-5176.0</td>\n",
              "      <td>0.033</td>\n",
              "      <td>0.483</td>\n",
              "      <td>0.000</td>\n",
              "      <td>0.834</td>\n",
              "      <td>0.485714</td>\n",
              "      <td>1</td>\n",
              "    </tr>\n",
              "    <tr>\n",
              "      <th>2</th>\n",
              "      <td>0.652</td>\n",
              "      <td>0.800</td>\n",
              "      <td>-4019.0</td>\n",
              "      <td>0.061</td>\n",
              "      <td>0.143</td>\n",
              "      <td>0.629</td>\n",
              "      <td>0.234</td>\n",
              "      <td>0.485714</td>\n",
              "      <td>1</td>\n",
              "    </tr>\n",
              "    <tr>\n",
              "      <th>3</th>\n",
              "      <td>0.812</td>\n",
              "      <td>0.479</td>\n",
              "      <td>-5678.0</td>\n",
              "      <td>0.333</td>\n",
              "      <td>0.213</td>\n",
              "      <td>0.000</td>\n",
              "      <td>0.559</td>\n",
              "      <td>0.485714</td>\n",
              "      <td>1</td>\n",
              "    </tr>\n",
              "    <tr>\n",
              "      <th>4</th>\n",
              "      <td>0.812</td>\n",
              "      <td>0.479</td>\n",
              "      <td>-5678.0</td>\n",
              "      <td>0.333</td>\n",
              "      <td>0.213</td>\n",
              "      <td>0.000</td>\n",
              "      <td>0.559</td>\n",
              "      <td>0.485714</td>\n",
              "      <td>1</td>\n",
              "    </tr>\n",
              "  </tbody>\n",
              "</table>\n",
              "</div>"
            ],
            "text/plain": [
              "   Danceability  Energy  Loudness  Speechiness  Acousticness  \\\n",
              "0         0.668   0.758   -5176.0        0.033         0.483   \n",
              "1         0.668   0.758   -5176.0        0.033         0.483   \n",
              "2         0.652   0.800   -4019.0        0.061         0.143   \n",
              "3         0.812   0.479   -5678.0        0.333         0.213   \n",
              "4         0.812   0.479   -5678.0        0.333         0.213   \n",
              "\n",
              "   Instrumentalness  Valence  Date_value Popularity  \n",
              "0             0.000    0.834    0.485714          1  \n",
              "1             0.000    0.834    0.485714          1  \n",
              "2             0.629    0.234    0.485714          1  \n",
              "3             0.000    0.559    0.485714          1  \n",
              "4             0.000    0.559    0.485714          1  "
            ]
          },
          "execution_count": 28,
          "metadata": {},
          "output_type": "execute_result"
        }
      ],
      "source": [
        "#Dropping 'Rank' and unnamed column\n",
        "df = df.drop(columns=[\"Rank\", \"Unnamed: 0\"])\n",
        "\n",
        "df.head()"
      ]
    },
    {
      "cell_type": "code",
      "execution_count": 29,
      "metadata": {
        "colab": {
          "base_uri": "https://localhost:8080/"
        },
        "id": "3XNRUxwwqBMw",
        "outputId": "4d46bda6-83ea-434b-adc1-e57de9e90ff3"
      },
      "outputs": [
        {
          "data": {
            "text/plain": [
              "Danceability         float64\n",
              "Energy               float64\n",
              "Loudness             float64\n",
              "Speechiness          float64\n",
              "Acousticness         float64\n",
              "Instrumentalness     float64\n",
              "Valence              float64\n",
              "Date_value           float64\n",
              "Popularity          category\n",
              "dtype: object"
            ]
          },
          "execution_count": 29,
          "metadata": {},
          "output_type": "execute_result"
        }
      ],
      "source": [
        "df.dtypes"
      ]
    },
    {
      "cell_type": "code",
      "execution_count": 30,
      "metadata": {
        "id": "0QXlHIbrqBMw"
      },
      "outputs": [],
      "source": [
        "#Removing 'Popularity' from features data\n",
        "y = df['Popularity']\n",
        "X = df.drop(columns=\"Popularity\")"
      ]
    },
    {
      "cell_type": "code",
      "execution_count": 31,
      "metadata": {
        "colab": {
          "base_uri": "https://localhost:8080/",
          "height": 206
        },
        "id": "KfCFJZN7qBMw",
        "outputId": "3917799a-1fcf-41f3-822d-cef07a62cf7a"
      },
      "outputs": [
        {
          "data": {
            "text/html": [
              "<div>\n",
              "<style scoped>\n",
              "    .dataframe tbody tr th:only-of-type {\n",
              "        vertical-align: middle;\n",
              "    }\n",
              "\n",
              "    .dataframe tbody tr th {\n",
              "        vertical-align: top;\n",
              "    }\n",
              "\n",
              "    .dataframe thead th {\n",
              "        text-align: right;\n",
              "    }\n",
              "</style>\n",
              "<table border=\"1\" class=\"dataframe\">\n",
              "  <thead>\n",
              "    <tr style=\"text-align: right;\">\n",
              "      <th></th>\n",
              "      <th>1</th>\n",
              "      <th>2</th>\n",
              "      <th>3</th>\n",
              "      <th>4</th>\n",
              "    </tr>\n",
              "  </thead>\n",
              "  <tbody>\n",
              "    <tr>\n",
              "      <th>0</th>\n",
              "      <td>True</td>\n",
              "      <td>False</td>\n",
              "      <td>False</td>\n",
              "      <td>False</td>\n",
              "    </tr>\n",
              "    <tr>\n",
              "      <th>1</th>\n",
              "      <td>True</td>\n",
              "      <td>False</td>\n",
              "      <td>False</td>\n",
              "      <td>False</td>\n",
              "    </tr>\n",
              "    <tr>\n",
              "      <th>2</th>\n",
              "      <td>True</td>\n",
              "      <td>False</td>\n",
              "      <td>False</td>\n",
              "      <td>False</td>\n",
              "    </tr>\n",
              "    <tr>\n",
              "      <th>3</th>\n",
              "      <td>True</td>\n",
              "      <td>False</td>\n",
              "      <td>False</td>\n",
              "      <td>False</td>\n",
              "    </tr>\n",
              "    <tr>\n",
              "      <th>4</th>\n",
              "      <td>True</td>\n",
              "      <td>False</td>\n",
              "      <td>False</td>\n",
              "      <td>False</td>\n",
              "    </tr>\n",
              "  </tbody>\n",
              "</table>\n",
              "</div>"
            ],
            "text/plain": [
              "      1      2      3      4\n",
              "0  True  False  False  False\n",
              "1  True  False  False  False\n",
              "2  True  False  False  False\n",
              "3  True  False  False  False\n",
              "4  True  False  False  False"
            ]
          },
          "execution_count": 31,
          "metadata": {},
          "output_type": "execute_result"
        }
      ],
      "source": [
        "# get_dummies\n",
        "y = pd.get_dummies(y)\n",
        "\n",
        "y.head()"
      ]
    },
    {
      "cell_type": "code",
      "execution_count": 32,
      "metadata": {
        "id": "-wiETWZtqBMw"
      },
      "outputs": [],
      "source": [
        "#Splitting into training/testing datasets\n",
        "X_train, X_test, y_train, y_test = train_test_split(X, y, random_state=42, stratify=y)"
      ]
    },
    {
      "cell_type": "code",
      "execution_count": 33,
      "metadata": {
        "id": "8rleOO4cqBMw"
      },
      "outputs": [],
      "source": [
        "# Create a StandardScaler instances\n",
        "scaler = StandardScaler()\n",
        "\n",
        "# Fit the StandardScaler\n",
        "X_scaler = scaler.fit(X_train)\n",
        "\n",
        "# Scale the data\n",
        "X_train_scaled = X_scaler.transform(X_train)\n",
        "X_test_scaled = X_scaler.transform(X_test)"
      ]
    },
    {
      "cell_type": "markdown",
      "metadata": {
        "id": "p-e7Tohf1H3J"
      },
      "source": [
        "**Model Optimization**"
      ]
    },
    {
      "cell_type": "code",
      "execution_count": 39,
      "metadata": {
        "colab": {
          "base_uri": "https://localhost:8080/"
        },
        "id": "lz9BpjjcuPoj",
        "outputId": "fedd191e-1107-426b-eff9-7cbd584f8b26"
      },
      "outputs": [
        {
          "name": "stderr",
          "output_type": "stream",
          "text": [
            "c:\\Users\\jacqu\\anaconda3\\envs\\dev\\lib\\site-packages\\keras\\src\\layers\\core\\dense.py:86: UserWarning: Do not pass an `input_shape`/`input_dim` argument to a layer. When using Sequential models, prefer using an `Input(shape)` object as the first layer in the model instead.\n",
            "  super().__init__(activity_regularizer=activity_regularizer, **kwargs)\n"
          ]
        },
        {
          "data": {
            "text/html": [
              "<pre style=\"white-space:pre;overflow-x:auto;line-height:normal;font-family:Menlo,'DejaVu Sans Mono',consolas,'Courier New',monospace\"><span style=\"font-weight: bold\">Model: \"sequential_3\"</span>\n",
              "</pre>\n"
            ],
            "text/plain": [
              "\u001b[1mModel: \"sequential_3\"\u001b[0m\n"
            ]
          },
          "metadata": {},
          "output_type": "display_data"
        },
        {
          "data": {
            "text/html": [
              "<pre style=\"white-space:pre;overflow-x:auto;line-height:normal;font-family:Menlo,'DejaVu Sans Mono',consolas,'Courier New',monospace\">┏━━━━━━━━━━━━━━━━━━━━━━━━━━━━━━━━━┳━━━━━━━━━━━━━━━━━━━━━━━━┳━━━━━━━━━━━━━━━┓\n",
              "┃<span style=\"font-weight: bold\"> Layer (type)                    </span>┃<span style=\"font-weight: bold\"> Output Shape           </span>┃<span style=\"font-weight: bold\">       Param # </span>┃\n",
              "┡━━━━━━━━━━━━━━━━━━━━━━━━━━━━━━━━━╇━━━━━━━━━━━━━━━━━━━━━━━━╇━━━━━━━━━━━━━━━┩\n",
              "│ dense_13 (<span style=\"color: #0087ff; text-decoration-color: #0087ff\">Dense</span>)                │ (<span style=\"color: #00d7ff; text-decoration-color: #00d7ff\">None</span>, <span style=\"color: #00af00; text-decoration-color: #00af00\">300</span>)            │         <span style=\"color: #00af00; text-decoration-color: #00af00\">2,700</span> │\n",
              "├─────────────────────────────────┼────────────────────────┼───────────────┤\n",
              "│ dense_14 (<span style=\"color: #0087ff; text-decoration-color: #0087ff\">Dense</span>)                │ (<span style=\"color: #00d7ff; text-decoration-color: #00d7ff\">None</span>, <span style=\"color: #00af00; text-decoration-color: #00af00\">300</span>)            │        <span style=\"color: #00af00; text-decoration-color: #00af00\">90,300</span> │\n",
              "├─────────────────────────────────┼────────────────────────┼───────────────┤\n",
              "│ dense_15 (<span style=\"color: #0087ff; text-decoration-color: #0087ff\">Dense</span>)                │ (<span style=\"color: #00d7ff; text-decoration-color: #00d7ff\">None</span>, <span style=\"color: #00af00; text-decoration-color: #00af00\">250</span>)            │        <span style=\"color: #00af00; text-decoration-color: #00af00\">75,250</span> │\n",
              "├─────────────────────────────────┼────────────────────────┼───────────────┤\n",
              "│ dense_16 (<span style=\"color: #0087ff; text-decoration-color: #0087ff\">Dense</span>)                │ (<span style=\"color: #00d7ff; text-decoration-color: #00d7ff\">None</span>, <span style=\"color: #00af00; text-decoration-color: #00af00\">250</span>)            │        <span style=\"color: #00af00; text-decoration-color: #00af00\">62,750</span> │\n",
              "├─────────────────────────────────┼────────────────────────┼───────────────┤\n",
              "│ dense_17 (<span style=\"color: #0087ff; text-decoration-color: #0087ff\">Dense</span>)                │ (<span style=\"color: #00d7ff; text-decoration-color: #00d7ff\">None</span>, <span style=\"color: #00af00; text-decoration-color: #00af00\">4</span>)              │         <span style=\"color: #00af00; text-decoration-color: #00af00\">1,004</span> │\n",
              "└─────────────────────────────────┴────────────────────────┴───────────────┘\n",
              "</pre>\n"
            ],
            "text/plain": [
              "┏━━━━━━━━━━━━━━━━━━━━━━━━━━━━━━━━━┳━━━━━━━━━━━━━━━━━━━━━━━━┳━━━━━━━━━━━━━━━┓\n",
              "┃\u001b[1m \u001b[0m\u001b[1mLayer (type)                   \u001b[0m\u001b[1m \u001b[0m┃\u001b[1m \u001b[0m\u001b[1mOutput Shape          \u001b[0m\u001b[1m \u001b[0m┃\u001b[1m \u001b[0m\u001b[1m      Param #\u001b[0m\u001b[1m \u001b[0m┃\n",
              "┡━━━━━━━━━━━━━━━━━━━━━━━━━━━━━━━━━╇━━━━━━━━━━━━━━━━━━━━━━━━╇━━━━━━━━━━━━━━━┩\n",
              "│ dense_13 (\u001b[38;5;33mDense\u001b[0m)                │ (\u001b[38;5;45mNone\u001b[0m, \u001b[38;5;34m300\u001b[0m)            │         \u001b[38;5;34m2,700\u001b[0m │\n",
              "├─────────────────────────────────┼────────────────────────┼───────────────┤\n",
              "│ dense_14 (\u001b[38;5;33mDense\u001b[0m)                │ (\u001b[38;5;45mNone\u001b[0m, \u001b[38;5;34m300\u001b[0m)            │        \u001b[38;5;34m90,300\u001b[0m │\n",
              "├─────────────────────────────────┼────────────────────────┼───────────────┤\n",
              "│ dense_15 (\u001b[38;5;33mDense\u001b[0m)                │ (\u001b[38;5;45mNone\u001b[0m, \u001b[38;5;34m250\u001b[0m)            │        \u001b[38;5;34m75,250\u001b[0m │\n",
              "├─────────────────────────────────┼────────────────────────┼───────────────┤\n",
              "│ dense_16 (\u001b[38;5;33mDense\u001b[0m)                │ (\u001b[38;5;45mNone\u001b[0m, \u001b[38;5;34m250\u001b[0m)            │        \u001b[38;5;34m62,750\u001b[0m │\n",
              "├─────────────────────────────────┼────────────────────────┼───────────────┤\n",
              "│ dense_17 (\u001b[38;5;33mDense\u001b[0m)                │ (\u001b[38;5;45mNone\u001b[0m, \u001b[38;5;34m4\u001b[0m)              │         \u001b[38;5;34m1,004\u001b[0m │\n",
              "└─────────────────────────────────┴────────────────────────┴───────────────┘\n"
            ]
          },
          "metadata": {},
          "output_type": "display_data"
        },
        {
          "data": {
            "text/html": [
              "<pre style=\"white-space:pre;overflow-x:auto;line-height:normal;font-family:Menlo,'DejaVu Sans Mono',consolas,'Courier New',monospace\"><span style=\"font-weight: bold\"> Total params: </span><span style=\"color: #00af00; text-decoration-color: #00af00\">232,004</span> (906.27 KB)\n",
              "</pre>\n"
            ],
            "text/plain": [
              "\u001b[1m Total params: \u001b[0m\u001b[38;5;34m232,004\u001b[0m (906.27 KB)\n"
            ]
          },
          "metadata": {},
          "output_type": "display_data"
        },
        {
          "data": {
            "text/html": [
              "<pre style=\"white-space:pre;overflow-x:auto;line-height:normal;font-family:Menlo,'DejaVu Sans Mono',consolas,'Courier New',monospace\"><span style=\"font-weight: bold\"> Trainable params: </span><span style=\"color: #00af00; text-decoration-color: #00af00\">232,004</span> (906.27 KB)\n",
              "</pre>\n"
            ],
            "text/plain": [
              "\u001b[1m Trainable params: \u001b[0m\u001b[38;5;34m232,004\u001b[0m (906.27 KB)\n"
            ]
          },
          "metadata": {},
          "output_type": "display_data"
        },
        {
          "data": {
            "text/html": [
              "<pre style=\"white-space:pre;overflow-x:auto;line-height:normal;font-family:Menlo,'DejaVu Sans Mono',consolas,'Courier New',monospace\"><span style=\"font-weight: bold\"> Non-trainable params: </span><span style=\"color: #00af00; text-decoration-color: #00af00\">0</span> (0.00 B)\n",
              "</pre>\n"
            ],
            "text/plain": [
              "\u001b[1m Non-trainable params: \u001b[0m\u001b[38;5;34m0\u001b[0m (0.00 B)\n"
            ]
          },
          "metadata": {},
          "output_type": "display_data"
        }
      ],
      "source": [
        "# Optimizing the model by increasing the number of neurons in each hidden layer, adding an additional hidden layer, and adjusting the activation functions\n",
        "num_input_features = len(X_train_scaled[0])\n",
        "hidden_layer_nodes_1 = 300\n",
        "hidden_layer_nodes_2 = 300\n",
        "hidden_layer_nodes_3 = 250\n",
        "hidden_layer_nodes_4 = 250\n",
        "\n",
        "nn = tf.keras.models.Sequential()\n",
        "\n",
        "# Creating first hidden layer\n",
        "nn.add(tf.keras.layers.Dense(units=hidden_layer_nodes_1, input_dim=num_input_features, activation=\"relu\"))\n",
        "\n",
        "# Creating second hidden layer\n",
        "nn.add(tf.keras.layers.Dense(units=hidden_layer_nodes_2, activation=\"relu\"))\n",
        "\n",
        "# Creating third hidden layer\n",
        "nn.add(tf.keras.layers.Dense(units=hidden_layer_nodes_3, activation=\"relu\"))\n",
        "\n",
        "# Creating fourth hidden layer\n",
        "nn.add(tf.keras.layers.Dense(units=hidden_layer_nodes_4, activation=\"relu\"))\n",
        "\n",
        "# Output layer\n",
        "nn.add(tf.keras.layers.Dense(units=4, activation=\"sigmoid\"))\n",
        "\n",
        "# Check the structure of the model\n",
        "nn.summary()"
      ]
    },
    {
      "cell_type": "code",
      "execution_count": 40,
      "metadata": {
        "colab": {
          "base_uri": "https://localhost:8080/"
        },
        "id": "28bRn9yDucSG",
        "outputId": "d600780b-96cf-47ad-cc9a-ff5de5363156"
      },
      "outputs": [
        {
          "name": "stdout",
          "output_type": "stream",
          "text": [
            "Epoch 1/100\n",
            "\u001b[1m2430/2430\u001b[0m \u001b[32m━━━━━━━━━━━━━━━━━━━━\u001b[0m\u001b[37m\u001b[0m \u001b[1m13s\u001b[0m 4ms/step - accuracy: 0.4157 - loss: 0.5079\n",
            "Epoch 2/100\n",
            "\u001b[1m2430/2430\u001b[0m \u001b[32m━━━━━━━━━━━━━━━━━━━━\u001b[0m\u001b[37m\u001b[0m \u001b[1m10s\u001b[0m 4ms/step - accuracy: 0.6194 - loss: 0.3738\n",
            "Epoch 3/100\n",
            "\u001b[1m2430/2430\u001b[0m \u001b[32m━━━━━━━━━━━━━━━━━━━━\u001b[0m\u001b[37m\u001b[0m \u001b[1m11s\u001b[0m 5ms/step - accuracy: 0.6654 - loss: 0.3337\n",
            "Epoch 4/100\n",
            "\u001b[1m2430/2430\u001b[0m \u001b[32m━━━━━━━━━━━━━━━━━━━━\u001b[0m\u001b[37m\u001b[0m \u001b[1m12s\u001b[0m 5ms/step - accuracy: 0.6838 - loss: 0.3173\n",
            "Epoch 5/100\n",
            "\u001b[1m2430/2430\u001b[0m \u001b[32m━━━━━━━━━━━━━━━━━━━━\u001b[0m\u001b[37m\u001b[0m \u001b[1m9s\u001b[0m 4ms/step - accuracy: 0.6985 - loss: 0.3053\n",
            "Epoch 6/100\n",
            "\u001b[1m2430/2430\u001b[0m \u001b[32m━━━━━━━━━━━━━━━━━━━━\u001b[0m\u001b[37m\u001b[0m \u001b[1m9s\u001b[0m 4ms/step - accuracy: 0.7041 - loss: 0.2981\n",
            "Epoch 7/100\n",
            "\u001b[1m2430/2430\u001b[0m \u001b[32m━━━━━━━━━━━━━━━━━━━━\u001b[0m\u001b[37m\u001b[0m \u001b[1m9s\u001b[0m 4ms/step - accuracy: 0.7121 - loss: 0.2926\n",
            "Epoch 8/100\n",
            "\u001b[1m2430/2430\u001b[0m \u001b[32m━━━━━━━━━━━━━━━━━━━━\u001b[0m\u001b[37m\u001b[0m \u001b[1m9s\u001b[0m 4ms/step - accuracy: 0.7154 - loss: 0.2866\n",
            "Epoch 9/100\n",
            "\u001b[1m2430/2430\u001b[0m \u001b[32m━━━━━━━━━━━━━━━━━━━━\u001b[0m\u001b[37m\u001b[0m \u001b[1m9s\u001b[0m 4ms/step - accuracy: 0.7203 - loss: 0.2825\n",
            "Epoch 10/100\n",
            "\u001b[1m2430/2430\u001b[0m \u001b[32m━━━━━━━━━━━━━━━━━━━━\u001b[0m\u001b[37m\u001b[0m \u001b[1m9s\u001b[0m 4ms/step - accuracy: 0.7265 - loss: 0.2786\n",
            "Epoch 11/100\n",
            "\u001b[1m2430/2430\u001b[0m \u001b[32m━━━━━━━━━━━━━━━━━━━━\u001b[0m\u001b[37m\u001b[0m \u001b[1m9s\u001b[0m 4ms/step - accuracy: 0.7278 - loss: 0.2763\n",
            "Epoch 12/100\n",
            "\u001b[1m2430/2430\u001b[0m \u001b[32m━━━━━━━━━━━━━━━━━━━━\u001b[0m\u001b[37m\u001b[0m \u001b[1m9s\u001b[0m 4ms/step - accuracy: 0.7300 - loss: 0.2737\n",
            "Epoch 13/100\n",
            "\u001b[1m2430/2430\u001b[0m \u001b[32m━━━━━━━━━━━━━━━━━━━━\u001b[0m\u001b[37m\u001b[0m \u001b[1m9s\u001b[0m 4ms/step - accuracy: 0.7317 - loss: 0.2701\n",
            "Epoch 14/100\n",
            "\u001b[1m2430/2430\u001b[0m \u001b[32m━━━━━━━━━━━━━━━━━━━━\u001b[0m\u001b[37m\u001b[0m \u001b[1m10s\u001b[0m 4ms/step - accuracy: 0.7340 - loss: 0.2687\n",
            "Epoch 15/100\n",
            "\u001b[1m2430/2430\u001b[0m \u001b[32m━━━━━━━━━━━━━━━━━━━━\u001b[0m\u001b[37m\u001b[0m \u001b[1m15s\u001b[0m 6ms/step - accuracy: 0.7327 - loss: 0.2686\n",
            "Epoch 16/100\n",
            "\u001b[1m2430/2430\u001b[0m \u001b[32m━━━━━━━━━━━━━━━━━━━━\u001b[0m\u001b[37m\u001b[0m \u001b[1m15s\u001b[0m 4ms/step - accuracy: 0.7399 - loss: 0.2646\n",
            "Epoch 17/100\n",
            "\u001b[1m2430/2430\u001b[0m \u001b[32m━━━━━━━━━━━━━━━━━━━━\u001b[0m\u001b[37m\u001b[0m \u001b[1m9s\u001b[0m 4ms/step - accuracy: 0.7374 - loss: 0.2640\n",
            "Epoch 18/100\n",
            "\u001b[1m2430/2430\u001b[0m \u001b[32m━━━━━━━━━━━━━━━━━━━━\u001b[0m\u001b[37m\u001b[0m \u001b[1m10s\u001b[0m 4ms/step - accuracy: 0.7397 - loss: 0.2634\n",
            "Epoch 19/100\n",
            "\u001b[1m2430/2430\u001b[0m \u001b[32m━━━━━━━━━━━━━━━━━━━━\u001b[0m\u001b[37m\u001b[0m \u001b[1m9s\u001b[0m 4ms/step - accuracy: 0.7423 - loss: 0.2617\n",
            "Epoch 20/100\n",
            "\u001b[1m2430/2430\u001b[0m \u001b[32m━━━━━━━━━━━━━━━━━━━━\u001b[0m\u001b[37m\u001b[0m \u001b[1m9s\u001b[0m 4ms/step - accuracy: 0.7422 - loss: 0.2596\n",
            "Epoch 21/100\n",
            "\u001b[1m2430/2430\u001b[0m \u001b[32m━━━━━━━━━━━━━━━━━━━━\u001b[0m\u001b[37m\u001b[0m \u001b[1m9s\u001b[0m 4ms/step - accuracy: 0.7423 - loss: 0.2604\n",
            "Epoch 22/100\n",
            "\u001b[1m2430/2430\u001b[0m \u001b[32m━━━━━━━━━━━━━━━━━━━━\u001b[0m\u001b[37m\u001b[0m \u001b[1m9s\u001b[0m 4ms/step - accuracy: 0.7470 - loss: 0.2573\n",
            "Epoch 23/100\n",
            "\u001b[1m2430/2430\u001b[0m \u001b[32m━━━━━━━━━━━━━━━━━━━━\u001b[0m\u001b[37m\u001b[0m \u001b[1m12s\u001b[0m 5ms/step - accuracy: 0.7425 - loss: 0.2569\n",
            "Epoch 24/100\n",
            "\u001b[1m2430/2430\u001b[0m \u001b[32m━━━━━━━━━━━━━━━━━━━━\u001b[0m\u001b[37m\u001b[0m \u001b[1m13s\u001b[0m 5ms/step - accuracy: 0.7459 - loss: 0.2557\n",
            "Epoch 25/100\n",
            "\u001b[1m2430/2430\u001b[0m \u001b[32m━━━━━━━━━━━━━━━━━━━━\u001b[0m\u001b[37m\u001b[0m \u001b[1m13s\u001b[0m 5ms/step - accuracy: 0.7458 - loss: 0.2556\n",
            "Epoch 26/100\n",
            "\u001b[1m2430/2430\u001b[0m \u001b[32m━━━━━━━━━━━━━━━━━━━━\u001b[0m\u001b[37m\u001b[0m \u001b[1m20s\u001b[0m 5ms/step - accuracy: 0.7500 - loss: 0.2517\n",
            "Epoch 27/100\n",
            "\u001b[1m2430/2430\u001b[0m \u001b[32m━━━━━━━━━━━━━━━━━━━━\u001b[0m\u001b[37m\u001b[0m \u001b[1m13s\u001b[0m 5ms/step - accuracy: 0.7542 - loss: 0.2503\n",
            "Epoch 28/100\n",
            "\u001b[1m2430/2430\u001b[0m \u001b[32m━━━━━━━━━━━━━━━━━━━━\u001b[0m\u001b[37m\u001b[0m \u001b[1m12s\u001b[0m 5ms/step - accuracy: 0.7496 - loss: 0.2527\n",
            "Epoch 29/100\n",
            "\u001b[1m2430/2430\u001b[0m \u001b[32m━━━━━━━━━━━━━━━━━━━━\u001b[0m\u001b[37m\u001b[0m \u001b[1m13s\u001b[0m 5ms/step - accuracy: 0.7511 - loss: 0.2514\n",
            "Epoch 30/100\n",
            "\u001b[1m2430/2430\u001b[0m \u001b[32m━━━━━━━━━━━━━━━━━━━━\u001b[0m\u001b[37m\u001b[0m \u001b[1m12s\u001b[0m 5ms/step - accuracy: 0.7522 - loss: 0.2516\n",
            "Epoch 31/100\n",
            "\u001b[1m2430/2430\u001b[0m \u001b[32m━━━━━━━━━━━━━━━━━━━━\u001b[0m\u001b[37m\u001b[0m \u001b[1m14s\u001b[0m 6ms/step - accuracy: 0.7546 - loss: 0.2477\n",
            "Epoch 32/100\n",
            "\u001b[1m2430/2430\u001b[0m \u001b[32m━━━━━━━━━━━━━━━━━━━━\u001b[0m\u001b[37m\u001b[0m \u001b[1m13s\u001b[0m 5ms/step - accuracy: 0.7508 - loss: 0.2494\n",
            "Epoch 33/100\n",
            "\u001b[1m2430/2430\u001b[0m \u001b[32m━━━━━━━━━━━━━━━━━━━━\u001b[0m\u001b[37m\u001b[0m \u001b[1m12s\u001b[0m 5ms/step - accuracy: 0.7561 - loss: 0.2465\n",
            "Epoch 34/100\n",
            "\u001b[1m2430/2430\u001b[0m \u001b[32m━━━━━━━━━━━━━━━━━━━━\u001b[0m\u001b[37m\u001b[0m \u001b[1m13s\u001b[0m 5ms/step - accuracy: 0.7552 - loss: 0.2475\n",
            "Epoch 35/100\n",
            "\u001b[1m2430/2430\u001b[0m \u001b[32m━━━━━━━━━━━━━━━━━━━━\u001b[0m\u001b[37m\u001b[0m \u001b[1m12s\u001b[0m 5ms/step - accuracy: 0.7564 - loss: 0.2456\n",
            "Epoch 36/100\n",
            "\u001b[1m2430/2430\u001b[0m \u001b[32m━━━━━━━━━━━━━━━━━━━━\u001b[0m\u001b[37m\u001b[0m \u001b[1m13s\u001b[0m 5ms/step - accuracy: 0.7542 - loss: 0.2467\n",
            "Epoch 37/100\n",
            "\u001b[1m2430/2430\u001b[0m \u001b[32m━━━━━━━━━━━━━━━━━━━━\u001b[0m\u001b[37m\u001b[0m \u001b[1m13s\u001b[0m 5ms/step - accuracy: 0.7549 - loss: 0.2462\n",
            "Epoch 38/100\n",
            "\u001b[1m2430/2430\u001b[0m \u001b[32m━━━━━━━━━━━━━━━━━━━━\u001b[0m\u001b[37m\u001b[0m \u001b[1m12s\u001b[0m 5ms/step - accuracy: 0.7573 - loss: 0.2447\n",
            "Epoch 39/100\n",
            "\u001b[1m2430/2430\u001b[0m \u001b[32m━━━━━━━━━━━━━━━━━━━━\u001b[0m\u001b[37m\u001b[0m \u001b[1m12s\u001b[0m 5ms/step - accuracy: 0.7558 - loss: 0.2440\n",
            "Epoch 40/100\n",
            "\u001b[1m2430/2430\u001b[0m \u001b[32m━━━━━━━━━━━━━━━━━━━━\u001b[0m\u001b[37m\u001b[0m \u001b[1m16s\u001b[0m 7ms/step - accuracy: 0.7587 - loss: 0.2418\n",
            "Epoch 41/100\n",
            "\u001b[1m2430/2430\u001b[0m \u001b[32m━━━━━━━━━━━━━━━━━━━━\u001b[0m\u001b[37m\u001b[0m \u001b[1m14s\u001b[0m 6ms/step - accuracy: 0.7581 - loss: 0.2425\n",
            "Epoch 42/100\n",
            "\u001b[1m2430/2430\u001b[0m \u001b[32m━━━━━━━━━━━━━━━━━━━━\u001b[0m\u001b[37m\u001b[0m \u001b[1m13s\u001b[0m 5ms/step - accuracy: 0.7589 - loss: 0.2412\n",
            "Epoch 43/100\n",
            "\u001b[1m2430/2430\u001b[0m \u001b[32m━━━━━━━━━━━━━━━━━━━━\u001b[0m\u001b[37m\u001b[0m \u001b[1m13s\u001b[0m 5ms/step - accuracy: 0.7587 - loss: 0.2415\n",
            "Epoch 44/100\n",
            "\u001b[1m2430/2430\u001b[0m \u001b[32m━━━━━━━━━━━━━━━━━━━━\u001b[0m\u001b[37m\u001b[0m \u001b[1m12s\u001b[0m 5ms/step - accuracy: 0.7567 - loss: 0.2427\n",
            "Epoch 45/100\n",
            "\u001b[1m2430/2430\u001b[0m \u001b[32m━━━━━━━━━━━━━━━━━━━━\u001b[0m\u001b[37m\u001b[0m \u001b[1m13s\u001b[0m 5ms/step - accuracy: 0.7601 - loss: 0.2411\n",
            "Epoch 46/100\n",
            "\u001b[1m2430/2430\u001b[0m \u001b[32m━━━━━━━━━━━━━━━━━━━━\u001b[0m\u001b[37m\u001b[0m \u001b[1m14s\u001b[0m 6ms/step - accuracy: 0.7601 - loss: 0.2401\n",
            "Epoch 47/100\n",
            "\u001b[1m2430/2430\u001b[0m \u001b[32m━━━━━━━━━━━━━━━━━━━━\u001b[0m\u001b[37m\u001b[0m \u001b[1m12s\u001b[0m 5ms/step - accuracy: 0.7594 - loss: 0.2404\n",
            "Epoch 48/100\n",
            "\u001b[1m2430/2430\u001b[0m \u001b[32m━━━━━━━━━━━━━━━━━━━━\u001b[0m\u001b[37m\u001b[0m \u001b[1m10s\u001b[0m 4ms/step - accuracy: 0.7602 - loss: 0.2405\n",
            "Epoch 49/100\n",
            "\u001b[1m2430/2430\u001b[0m \u001b[32m━━━━━━━━━━━━━━━━━━━━\u001b[0m\u001b[37m\u001b[0m \u001b[1m10s\u001b[0m 4ms/step - accuracy: 0.7577 - loss: 0.2406\n",
            "Epoch 50/100\n",
            "\u001b[1m2430/2430\u001b[0m \u001b[32m━━━━━━━━━━━━━━━━━━━━\u001b[0m\u001b[37m\u001b[0m \u001b[1m11s\u001b[0m 4ms/step - accuracy: 0.7582 - loss: 0.2399\n",
            "Epoch 51/100\n",
            "\u001b[1m2430/2430\u001b[0m \u001b[32m━━━━━━━━━━━━━━━━━━━━\u001b[0m\u001b[37m\u001b[0m \u001b[1m10s\u001b[0m 4ms/step - accuracy: 0.7597 - loss: 0.2389\n",
            "Epoch 52/100\n",
            "\u001b[1m2430/2430\u001b[0m \u001b[32m━━━━━━━━━━━━━━━━━━━━\u001b[0m\u001b[37m\u001b[0m \u001b[1m12s\u001b[0m 5ms/step - accuracy: 0.7615 - loss: 0.2392\n",
            "Epoch 53/100\n",
            "\u001b[1m2430/2430\u001b[0m \u001b[32m━━━━━━━━━━━━━━━━━━━━\u001b[0m\u001b[37m\u001b[0m \u001b[1m10s\u001b[0m 4ms/step - accuracy: 0.7638 - loss: 0.2362\n",
            "Epoch 54/100\n",
            "\u001b[1m2430/2430\u001b[0m \u001b[32m━━━━━━━━━━━━━━━━━━━━\u001b[0m\u001b[37m\u001b[0m \u001b[1m10s\u001b[0m 4ms/step - accuracy: 0.7638 - loss: 0.2372\n",
            "Epoch 55/100\n",
            "\u001b[1m2430/2430\u001b[0m \u001b[32m━━━━━━━━━━━━━━━━━━━━\u001b[0m\u001b[37m\u001b[0m \u001b[1m13s\u001b[0m 5ms/step - accuracy: 0.7609 - loss: 0.2369\n",
            "Epoch 56/100\n",
            "\u001b[1m2430/2430\u001b[0m \u001b[32m━━━━━━━━━━━━━━━━━━━━\u001b[0m\u001b[37m\u001b[0m \u001b[1m13s\u001b[0m 5ms/step - accuracy: 0.7622 - loss: 0.2371\n",
            "Epoch 57/100\n",
            "\u001b[1m2430/2430\u001b[0m \u001b[32m━━━━━━━━━━━━━━━━━━━━\u001b[0m\u001b[37m\u001b[0m \u001b[1m14s\u001b[0m 6ms/step - accuracy: 0.7659 - loss: 0.2348\n",
            "Epoch 58/100\n",
            "\u001b[1m2430/2430\u001b[0m \u001b[32m━━━━━━━━━━━━━━━━━━━━\u001b[0m\u001b[37m\u001b[0m \u001b[1m13s\u001b[0m 5ms/step - accuracy: 0.7652 - loss: 0.2343\n",
            "Epoch 59/100\n",
            "\u001b[1m2430/2430\u001b[0m \u001b[32m━━━━━━━━━━━━━━━━━━━━\u001b[0m\u001b[37m\u001b[0m \u001b[1m13s\u001b[0m 6ms/step - accuracy: 0.7651 - loss: 0.2352\n",
            "Epoch 60/100\n",
            "\u001b[1m2430/2430\u001b[0m \u001b[32m━━━━━━━━━━━━━━━━━━━━\u001b[0m\u001b[37m\u001b[0m \u001b[1m11s\u001b[0m 5ms/step - accuracy: 0.7627 - loss: 0.2360\n",
            "Epoch 61/100\n",
            "\u001b[1m2430/2430\u001b[0m \u001b[32m━━━━━━━━━━━━━━━━━━━━\u001b[0m\u001b[37m\u001b[0m \u001b[1m11s\u001b[0m 5ms/step - accuracy: 0.7636 - loss: 0.2354\n",
            "Epoch 62/100\n",
            "\u001b[1m2430/2430\u001b[0m \u001b[32m━━━━━━━━━━━━━━━━━━━━\u001b[0m\u001b[37m\u001b[0m \u001b[1m11s\u001b[0m 4ms/step - accuracy: 0.7639 - loss: 0.2338\n",
            "Epoch 63/100\n",
            "\u001b[1m2430/2430\u001b[0m \u001b[32m━━━━━━━━━━━━━━━━━━━━\u001b[0m\u001b[37m\u001b[0m \u001b[1m11s\u001b[0m 4ms/step - accuracy: 0.7662 - loss: 0.2346\n",
            "Epoch 64/100\n",
            "\u001b[1m2430/2430\u001b[0m \u001b[32m━━━━━━━━━━━━━━━━━━━━\u001b[0m\u001b[37m\u001b[0m \u001b[1m11s\u001b[0m 4ms/step - accuracy: 0.7642 - loss: 0.2345\n",
            "Epoch 65/100\n",
            "\u001b[1m2430/2430\u001b[0m \u001b[32m━━━━━━━━━━━━━━━━━━━━\u001b[0m\u001b[37m\u001b[0m \u001b[1m11s\u001b[0m 4ms/step - accuracy: 0.7630 - loss: 0.2344\n",
            "Epoch 66/100\n",
            "\u001b[1m2430/2430\u001b[0m \u001b[32m━━━━━━━━━━━━━━━━━━━━\u001b[0m\u001b[37m\u001b[0m \u001b[1m11s\u001b[0m 4ms/step - accuracy: 0.7664 - loss: 0.2334\n",
            "Epoch 67/100\n",
            "\u001b[1m2430/2430\u001b[0m \u001b[32m━━━━━━━━━━━━━━━━━━━━\u001b[0m\u001b[37m\u001b[0m \u001b[1m12s\u001b[0m 5ms/step - accuracy: 0.7632 - loss: 0.2334\n",
            "Epoch 68/100\n",
            "\u001b[1m2430/2430\u001b[0m \u001b[32m━━━━━━━━━━━━━━━━━━━━\u001b[0m\u001b[37m\u001b[0m \u001b[1m12s\u001b[0m 5ms/step - accuracy: 0.7651 - loss: 0.2339\n",
            "Epoch 69/100\n",
            "\u001b[1m2430/2430\u001b[0m \u001b[32m━━━━━━━━━━━━━━━━━━━━\u001b[0m\u001b[37m\u001b[0m \u001b[1m12s\u001b[0m 5ms/step - accuracy: 0.7645 - loss: 0.2330\n",
            "Epoch 70/100\n",
            "\u001b[1m2430/2430\u001b[0m \u001b[32m━━━━━━━━━━━━━━━━━━━━\u001b[0m\u001b[37m\u001b[0m \u001b[1m12s\u001b[0m 5ms/step - accuracy: 0.7654 - loss: 0.2333\n",
            "Epoch 71/100\n",
            "\u001b[1m2430/2430\u001b[0m \u001b[32m━━━━━━━━━━━━━━━━━━━━\u001b[0m\u001b[37m\u001b[0m \u001b[1m12s\u001b[0m 5ms/step - accuracy: 0.7678 - loss: 0.2316\n",
            "Epoch 72/100\n",
            "\u001b[1m2430/2430\u001b[0m \u001b[32m━━━━━━━━━━━━━━━━━━━━\u001b[0m\u001b[37m\u001b[0m \u001b[1m20s\u001b[0m 5ms/step - accuracy: 0.7658 - loss: 0.2321\n",
            "Epoch 73/100\n",
            "\u001b[1m2430/2430\u001b[0m \u001b[32m━━━━━━━━━━━━━━━━━━━━\u001b[0m\u001b[37m\u001b[0m \u001b[1m10s\u001b[0m 4ms/step - accuracy: 0.7678 - loss: 0.2318\n",
            "Epoch 74/100\n",
            "\u001b[1m2430/2430\u001b[0m \u001b[32m━━━━━━━━━━━━━━━━━━━━\u001b[0m\u001b[37m\u001b[0m \u001b[1m10s\u001b[0m 4ms/step - accuracy: 0.7663 - loss: 0.2319\n",
            "Epoch 75/100\n",
            "\u001b[1m2430/2430\u001b[0m \u001b[32m━━━━━━━━━━━━━━━━━━━━\u001b[0m\u001b[37m\u001b[0m \u001b[1m10s\u001b[0m 4ms/step - accuracy: 0.7662 - loss: 0.2323\n",
            "Epoch 76/100\n",
            "\u001b[1m2430/2430\u001b[0m \u001b[32m━━━━━━━━━━━━━━━━━━━━\u001b[0m\u001b[37m\u001b[0m \u001b[1m11s\u001b[0m 4ms/step - accuracy: 0.7686 - loss: 0.2309\n",
            "Epoch 77/100\n",
            "\u001b[1m2430/2430\u001b[0m \u001b[32m━━━━━━━━━━━━━━━━━━━━\u001b[0m\u001b[37m\u001b[0m \u001b[1m12s\u001b[0m 5ms/step - accuracy: 0.7677 - loss: 0.2314\n",
            "Epoch 78/100\n",
            "\u001b[1m2430/2430\u001b[0m \u001b[32m━━━━━━━━━━━━━━━━━━━━\u001b[0m\u001b[37m\u001b[0m \u001b[1m14s\u001b[0m 6ms/step - accuracy: 0.7672 - loss: 0.2306\n",
            "Epoch 79/100\n",
            "\u001b[1m2430/2430\u001b[0m \u001b[32m━━━━━━━━━━━━━━━━━━━━\u001b[0m\u001b[37m\u001b[0m \u001b[1m11s\u001b[0m 4ms/step - accuracy: 0.7663 - loss: 0.2315\n",
            "Epoch 80/100\n",
            "\u001b[1m2430/2430\u001b[0m \u001b[32m━━━━━━━━━━━━━━━━━━━━\u001b[0m\u001b[37m\u001b[0m \u001b[1m14s\u001b[0m 6ms/step - accuracy: 0.7688 - loss: 0.2296\n",
            "Epoch 81/100\n",
            "\u001b[1m2430/2430\u001b[0m \u001b[32m━━━━━━━━━━━━━━━━━━━━\u001b[0m\u001b[37m\u001b[0m \u001b[1m11s\u001b[0m 4ms/step - accuracy: 0.7706 - loss: 0.2292\n",
            "Epoch 82/100\n",
            "\u001b[1m2430/2430\u001b[0m \u001b[32m━━━━━━━━━━━━━━━━━━━━\u001b[0m\u001b[37m\u001b[0m \u001b[1m10s\u001b[0m 4ms/step - accuracy: 0.7676 - loss: 0.2297\n",
            "Epoch 83/100\n",
            "\u001b[1m2430/2430\u001b[0m \u001b[32m━━━━━━━━━━━━━━━━━━━━\u001b[0m\u001b[37m\u001b[0m \u001b[1m8s\u001b[0m 3ms/step - accuracy: 0.7685 - loss: 0.2298\n",
            "Epoch 84/100\n",
            "\u001b[1m2430/2430\u001b[0m \u001b[32m━━━━━━━━━━━━━━━━━━━━\u001b[0m\u001b[37m\u001b[0m \u001b[1m9s\u001b[0m 4ms/step - accuracy: 0.7715 - loss: 0.2276\n",
            "Epoch 85/100\n",
            "\u001b[1m2430/2430\u001b[0m \u001b[32m━━━━━━━━━━━━━━━━━━━━\u001b[0m\u001b[37m\u001b[0m \u001b[1m9s\u001b[0m 4ms/step - accuracy: 0.7669 - loss: 0.2312\n",
            "Epoch 86/100\n",
            "\u001b[1m2430/2430\u001b[0m \u001b[32m━━━━━━━━━━━━━━━━━━━━\u001b[0m\u001b[37m\u001b[0m \u001b[1m9s\u001b[0m 4ms/step - accuracy: 0.7716 - loss: 0.2273\n",
            "Epoch 87/100\n",
            "\u001b[1m2430/2430\u001b[0m \u001b[32m━━━━━━━━━━━━━━━━━━━━\u001b[0m\u001b[37m\u001b[0m \u001b[1m9s\u001b[0m 4ms/step - accuracy: 0.7665 - loss: 0.2318\n",
            "Epoch 88/100\n",
            "\u001b[1m2430/2430\u001b[0m \u001b[32m━━━━━━━━━━━━━━━━━━━━\u001b[0m\u001b[37m\u001b[0m \u001b[1m11s\u001b[0m 4ms/step - accuracy: 0.7710 - loss: 0.2280\n",
            "Epoch 89/100\n",
            "\u001b[1m2430/2430\u001b[0m \u001b[32m━━━━━━━━━━━━━━━━━━━━\u001b[0m\u001b[37m\u001b[0m \u001b[1m10s\u001b[0m 4ms/step - accuracy: 0.7703 - loss: 0.2277\n",
            "Epoch 90/100\n",
            "\u001b[1m2430/2430\u001b[0m \u001b[32m━━━━━━━━━━━━━━━━━━━━\u001b[0m\u001b[37m\u001b[0m \u001b[1m8s\u001b[0m 3ms/step - accuracy: 0.7675 - loss: 0.2291\n",
            "Epoch 91/100\n",
            "\u001b[1m2430/2430\u001b[0m \u001b[32m━━━━━━━━━━━━━━━━━━━━\u001b[0m\u001b[37m\u001b[0m \u001b[1m10s\u001b[0m 4ms/step - accuracy: 0.7716 - loss: 0.2259\n",
            "Epoch 92/100\n",
            "\u001b[1m2430/2430\u001b[0m \u001b[32m━━━━━━━━━━━━━━━━━━━━\u001b[0m\u001b[37m\u001b[0m \u001b[1m8s\u001b[0m 3ms/step - accuracy: 0.7734 - loss: 0.2274\n",
            "Epoch 93/100\n",
            "\u001b[1m2430/2430\u001b[0m \u001b[32m━━━━━━━━━━━━━━━━━━━━\u001b[0m\u001b[37m\u001b[0m \u001b[1m8s\u001b[0m 3ms/step - accuracy: 0.7714 - loss: 0.2286\n",
            "Epoch 94/100\n",
            "\u001b[1m2430/2430\u001b[0m \u001b[32m━━━━━━━━━━━━━━━━━━━━\u001b[0m\u001b[37m\u001b[0m \u001b[1m8s\u001b[0m 3ms/step - accuracy: 0.7728 - loss: 0.2256\n",
            "Epoch 95/100\n",
            "\u001b[1m2430/2430\u001b[0m \u001b[32m━━━━━━━━━━━━━━━━━━━━\u001b[0m\u001b[37m\u001b[0m \u001b[1m8s\u001b[0m 3ms/step - accuracy: 0.7705 - loss: 0.2268\n",
            "Epoch 96/100\n",
            "\u001b[1m2430/2430\u001b[0m \u001b[32m━━━━━━━━━━━━━━━━━━━━\u001b[0m\u001b[37m\u001b[0m \u001b[1m8s\u001b[0m 3ms/step - accuracy: 0.7699 - loss: 0.2287\n",
            "Epoch 97/100\n",
            "\u001b[1m2430/2430\u001b[0m \u001b[32m━━━━━━━━━━━━━━━━━━━━\u001b[0m\u001b[37m\u001b[0m \u001b[1m9s\u001b[0m 4ms/step - accuracy: 0.7700 - loss: 0.2274\n",
            "Epoch 98/100\n",
            "\u001b[1m2430/2430\u001b[0m \u001b[32m━━━━━━━━━━━━━━━━━━━━\u001b[0m\u001b[37m\u001b[0m \u001b[1m8s\u001b[0m 3ms/step - accuracy: 0.7740 - loss: 0.2253\n",
            "Epoch 99/100\n",
            "\u001b[1m2430/2430\u001b[0m \u001b[32m━━━━━━━━━━━━━━━━━━━━\u001b[0m\u001b[37m\u001b[0m \u001b[1m9s\u001b[0m 4ms/step - accuracy: 0.7715 - loss: 0.2271\n",
            "Epoch 100/100\n",
            "\u001b[1m2430/2430\u001b[0m \u001b[32m━━━━━━━━━━━━━━━━━━━━\u001b[0m\u001b[37m\u001b[0m \u001b[1m8s\u001b[0m 3ms/step - accuracy: 0.7710 - loss: 0.2266\n"
          ]
        }
      ],
      "source": [
        "# Compiling and training the optimized model, changing loss function as well\n",
        "nn.compile(loss='binary_crossentropy', optimizer='adam', metrics=['accuracy'])\n",
        "fit_model = nn.fit(X_train_scaled,y_train,epochs=100)"
      ]
    },
    {
      "cell_type": "code",
      "execution_count": 41,
      "metadata": {
        "colab": {
          "base_uri": "https://localhost:8080/"
        },
        "id": "XnqqX9_ucazY",
        "outputId": "e31508c8-626e-40d4-eb99-6a06eba21653"
      },
      "outputs": [
        {
          "name": "stdout",
          "output_type": "stream",
          "text": [
            "2430/2430 - 9s - 4ms/step - accuracy: 0.7791 - loss: 0.2218\n",
            "Loss: 0.22179144620895386, Accuracy: 0.779112696647644\n"
          ]
        }
      ],
      "source": [
        "# Evaluate the performance of the optimized model using the loss and predictive accuracy of the model on the train dataset.\n",
        "model_loss, model_accuracy = nn.evaluate(X_train_scaled,y_train,verbose=2)\n",
        "print(f\"Loss: {model_loss}, Accuracy: {model_accuracy}\")"
      ]
    },
    {
      "cell_type": "code",
      "execution_count": 42,
      "metadata": {},
      "outputs": [
        {
          "name": "stdout",
          "output_type": "stream",
          "text": [
            "810/810 - 3s - 3ms/step - accuracy: 0.7395 - loss: 0.2768\n",
            "Loss: 0.27678173780441284, Accuracy: 0.739484429359436\n"
          ]
        }
      ],
      "source": [
        "# Evaluate the performance of the optimized model using the loss and predictive accuracy of the model on the test dataset.\n",
        "model_loss, model_accuracy = nn.evaluate(X_test_scaled,y_test,verbose=2)\n",
        "print(f\"Loss: {model_loss}, Accuracy: {model_accuracy}\")"
      ]
    },
    {
      "cell_type": "code",
      "execution_count": null,
      "metadata": {},
      "outputs": [],
      "source": []
    },
    {
      "cell_type": "code",
      "execution_count": 44,
      "metadata": {
        "colab": {
          "base_uri": "https://localhost:8080/"
        },
        "id": "0MBsc9dLglRh",
        "outputId": "027b53fd-109e-4ed0-dc9d-cd96acc95d84"
      },
      "outputs": [
        {
          "name": "stderr",
          "output_type": "stream",
          "text": [
            "WARNING:absl:You are saving your model as an HDF5 file via `model.save()` or `keras.saving.save_model(model)`. This file format is considered legacy. We recommend using instead the native Keras format, e.g. `model.save('my_model.keras')` or `keras.saving.save_model(model, 'my_model.keras')`. \n"
          ]
        }
      ],
      "source": [
        "nn.save('Spotify_ML_Optimization.h5')"
      ]
    }
  ],
  "metadata": {
    "colab": {
      "provenance": []
    },
    "kernelspec": {
      "display_name": "dev",
      "language": "python",
      "name": "python3"
    },
    "language_info": {
      "codemirror_mode": {
        "name": "ipython",
        "version": 3
      },
      "file_extension": ".py",
      "mimetype": "text/x-python",
      "name": "python",
      "nbconvert_exporter": "python",
      "pygments_lexer": "ipython3",
      "version": "3.10.13"
    }
  },
  "nbformat": 4,
  "nbformat_minor": 0
}
